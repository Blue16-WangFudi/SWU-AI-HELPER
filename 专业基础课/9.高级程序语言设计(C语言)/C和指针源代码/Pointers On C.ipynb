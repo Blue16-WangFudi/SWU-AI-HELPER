{
 "cells": [
  {
   "cell_type": "markdown",
   "id": "458b2c1f",
   "metadata": {},
   "source": [
    "//Pointer On C\n",
    "//2021.9.4-\n",
    "//Yan"
   ]
  },
  {
   "cell_type": "markdown",
   "id": "2b48e37b",
   "metadata": {
    "ExecuteTime": {
     "end_time": "2021-09-04T08:21:37.370546Z",
     "start_time": "2021-09-04T08:21:37.332686Z"
    }
   },
   "source": [
    "## Chapter 1  快速上手\n",
    "1.\n",
    "```c\n",
    "#if 0\n",
    "    statements\n",
    "#endif \n",
    "```\n",
    "//逻辑删除代码\n",
    "\n",
    "2.scanf函数若输入值可以合法地转换为所需要的形式，则返回值为1，否则返回0\n",
    "\n",
    "3.getchar函数从标准输入中读取一个字符并返回他的值，若输入中不存在任何字符，则返回常量EOF（在stdio.h中定义）\n",
    "\n",
    "4.测试代码的重要性，执行数组边界检查等任务\n",
    "\n",
    "5.字符串内搜索字符函数为strchr(*const string,char a)\n",
    "  字符串内搜索字符串函数为为strstr(*const string1,*const string2)"
   ]
  },
  {
   "cell_type": "markdown",
   "id": "4c9adc07",
   "metadata": {
    "ExecuteTime": {
     "end_time": "2021-09-04T08:23:49.760550Z",
     "start_time": "2021-09-04T08:23:49.731562Z"
    }
   },
   "source": [
    "## Chapter 2 基本概念\n"
   ]
  },
  {
   "cell_type": "markdown",
   "id": "af523555",
   "metadata": {},
   "source": [
    "### 环境"
   ]
  },
  {
   "cell_type": "markdown",
   "id": "542123cc",
   "metadata": {},
   "source": [
    "在ANSI C的任何一种实现中，存在翻译环境（源代码被转换为可执行的机器指令）与执行环境（实际执行代码）"
   ]
  },
  {
   "cell_type": "markdown",
   "id": "e6da106e",
   "metadata": {},
   "source": [
    "#### 翻译环境"
   ]
  },
  {
   "cell_type": "markdown",
   "id": "117ed106",
   "metadata": {
    "ExecuteTime": {
     "start_time": "2021-09-04T09:44:59.475Z"
    }
   },
   "source": [
    "组成一个程序的多个源文件通过编译过程转换为目标代码(object code)，然后各个目标文件由链接器(linker)捆绑，形成可执行程序。\n",
    "\n",
    "编译过程：\n",
    "1. 首先预处理器(preprocessor)处理，在源代码上执行一些文本操作，例如用实际值替代#define指令定义的符号；读入由#include指令包含的文件内容等。\n",
    "2. 然后，源代码经过解析(parse)，产生目标代码(机器指令的初步形式)，以汇编语言的形式存在。\n",
    "\n",
    "在Unix系统中，C编译器被称为cc  cc program.c ->a.out"
   ]
  },
  {
   "cell_type": "markdown",
   "id": "475ba046",
   "metadata": {
    "ExecuteTime": {
     "end_time": "2021-09-04T09:45:41.123791Z",
     "start_time": "2021-09-04T09:45:41.078925Z"
    }
   },
   "source": [
    "#### 执行环境"
   ]
  },
  {
   "cell_type": "markdown",
   "id": "c16f72d4",
   "metadata": {},
   "source": [
    "首先：将程序载入到内存中，然后开始执行代码，程序将使用一个运行时**堆栈(stack)**，用于<u>存储函数的局部变量和返回地址</u>,同时也使用静态内存(static)"
   ]
  },
  {
   "cell_type": "markdown",
   "id": "140bf5fd",
   "metadata": {
    "ExecuteTime": {
     "end_time": "2021-09-04T09:50:48.826238Z",
     "start_time": "2021-09-04T09:50:48.804747Z"
    }
   },
   "source": [
    "## Chapter 3 数据"
   ]
  },
  {
   "cell_type": "markdown",
   "id": "7c6a345e",
   "metadata": {},
   "source": [
    "### 字面值常量\n",
    "指定了自身的值，且不允许发生改变\n",
    "\n",
    "字符常量\"a\",字符串常量\"hello\""
   ]
  },
  {
   "cell_type": "markdown",
   "id": "aadd7794",
   "metadata": {},
   "source": [
    "### 枚举类型\n",
    "enum Jar_type{CUP,PINT,QUART..}\n",
    "\n",
    "它的值都是符号常量，枚举类型变量实际以整型的方式存储。"
   ]
  },
  {
   "cell_type": "markdown",
   "id": "5ee71043",
   "metadata": {
    "ExecuteTime": {
     "end_time": "2021-09-04T09:58:44.833635Z",
     "start_time": "2021-09-04T09:58:44.813021Z"
    }
   },
   "source": [
    "### typedef\n",
    "定义新的数据类型："
   ]
  },
  {
   "cell_type": "code",
   "execution_count": 9,
   "id": "3fb4f930",
   "metadata": {
    "ExecuteTime": {
     "end_time": "2021-09-04T10:05:45.835624Z",
     "start_time": "2021-09-04T10:05:45.776729Z"
    }
   },
   "outputs": [],
   "source": [
    "#include <stdio.h>\n",
    "int main()\n",
    "{\n",
    "    typedef char *ptr_to_char;\n",
    "    ptr_to_char a;\n",
    "    return 0;\n",
    "}"
   ]
  },
  {
   "cell_type": "markdown",
   "id": "3813ada0",
   "metadata": {},
   "source": [
    "### 作用域\n",
    "代码块作用域，文件作用域，原型作用域，函数作用域"
   ]
  },
  {
   "cell_type": "markdown",
   "id": "08378efb",
   "metadata": {},
   "source": [
    "###  存储类型\n",
    "存储变量的地方：普通内存，运行时堆栈，硬件寄存器\n",
    "\n",
    "静态变量(static)，自动变量(auto),寄存器变量(register)\n",
    "\n",
    "static关键字：\n",
    "\n",
    "1. 用于函数定义时/代码块之外的变量声明，用于修改标识符的链接属性，从external改为internal\n",
    "2. 用于代码块内部的变量声明，修改变量的存储类型，从自动变量修改为静态变量。"
   ]
  },
  {
   "cell_type": "markdown",
   "id": "8f37ca50",
   "metadata": {},
   "source": [
    "## Chapter 4 语句"
   ]
  },
  {
   "cell_type": "markdown",
   "id": "70cb6f3a",
   "metadata": {},
   "source": [
    "## Chapter 5 操作符和表达式"
   ]
  },
  {
   "cell_type": "markdown",
   "id": "880eb9d0",
   "metadata": {},
   "source": [
    "### 移位操作符\n",
    "移位操作是指把一个值的位向左或向右移动。\n",
    "\n",
    "左移位时，值最左边的几位被丢弃，右边多出来的空位用0补齐；<<\n",
    "\n",
    "右移位存在一个问题，当从左边移入新位时，有两种方案：>>\n",
    "1. 逻辑移位，左边移入的位用0填充\n",
    "2. 算术移位，左边移入的位由原先该值的符号位决定，以此保持原数的正负形式不便。"
   ]
  },
  {
   "cell_type": "code",
   "execution_count": 36,
   "id": "70208540",
   "metadata": {
    "ExecuteTime": {
     "end_time": "2021-09-04T11:44:45.263988Z",
     "start_time": "2021-09-04T11:44:45.218400Z"
    }
   },
   "outputs": [
    {
     "name": "stdout",
     "output_type": "stream",
     "text": [
      "4 "
     ]
    }
   ],
   "source": [
    "//计数一个值中值为1的位的个数\n",
    "#include <stdio.h>\n",
    "int main()\n",
    "{\n",
    "    int count_one_bits(unsigned int value);\n",
    "    int a=0b01011001;\n",
    "    //printf(\"%d \",a);\n",
    "    printf(\"%d \",count_one_bits(a));\n",
    "    return 0;\n",
    "\n",
    "}\n",
    "int count_one_bits(unsigned int value)\n",
    "{\n",
    "    int ones;\n",
    "    for (ones=0;value!=0;value=value>>1)\n",
    "    {\n",
    "        //printf(\"%d \",value);\n",
    "        if ((value&1) !=0)  ones+=1;\n",
    "    }\n",
    "    //printf(\"%d \",ones);\n",
    "    return ones;\n",
    "}"
   ]
  },
  {
   "cell_type": "markdown",
   "id": "3f085bd7",
   "metadata": {},
   "source": [
    "### 位操作符  \n",
    "&(AND) |(OR) ^(XOR)  ～(求补)  \n",
    "区别于逻辑操作符 && ||\n",
    "\n",
    "**位的操纵**\n",
    "\n",
    "`value=value | 1 << bit_number `//将指定位置1，bit_number为一整形值，范围从0-位数-1，位从右向左计数  \n",
    "`value=value & ~(1<< bit_number) `//将指定位置0  \n",
    "`value & 1 << bit_number ` //对指定位进行测试，若已被设置为1，则表达式结果非零"
   ]
  },
  {
   "cell_type": "markdown",
   "id": "7eed99c4",
   "metadata": {},
   "source": [
    "## Chapter 6 指针"
   ]
  },
  {
   "cell_type": "code",
   "execution_count": 3,
   "id": "4cf6e850",
   "metadata": {
    "ExecuteTime": {
     "end_time": "2021-09-05T05:06:45.942728Z",
     "start_time": "2021-09-05T05:06:45.889170Z"
    },
    "scrolled": true
   },
   "outputs": [
    {
     "name": "stdout",
     "output_type": "stream",
     "text": [
      "4 1\n",
      "4\n",
      "1\n"
     ]
    }
   ],
   "source": [
    "//给定一个指向以NULL结尾的指针列表的指针，在列表中的字符串中查找一个特定的字符\n",
    "#include <stdio.h>\n",
    "int main()\n",
    "{\n",
    "    int* find_char(char **strings,char value);\n",
    "    char *strings[]={\"hello\",\"hahaha\",\"oklok\",\"pardon\",NULL};\n",
    "    int *p;\n",
    "    char **sp;\n",
    "    sp=strings;\n",
    "    p=find_char(sp,'p');\n",
    "    for(int i=0;i<2;i=i+1) \n",
    "    {\n",
    "        printf(\"%d\\n\",*(p+i));\n",
    "    }\n",
    "    return 0;\n",
    "}\n",
    "int* find_char(char **strings,char value)\n",
    "{\n",
    "    char *string;//当前查找字符串\n",
    "    int res[2];\n",
    "    int count1=0;\n",
    "    while ((string=*strings++) != NULL)\n",
    "    {\n",
    "        count1+=1;\n",
    "        int count2=0;\n",
    "        while (*string != '\\0')\n",
    "        {\n",
    "            count2+=1;\n",
    "            if (*string++ == value) \n",
    "            {\n",
    "                res[0]=count1;\n",
    "                res[1]=count2;\n",
    "            }\n",
    "        }\n",
    "    }\n",
    "    \n",
    "    int *ph;\n",
    "    ph=res;\n",
    "    printf(\"%d %d\\n\",res[0],res[1]);\n",
    "    return ph;\n",
    "}"
   ]
  },
  {
   "cell_type": "markdown",
   "id": "1b28f3d3",
   "metadata": {},
   "source": [
    "### 指针运算\n",
    "只有当两个指针都指向同一个数组中元素的时候才允许作减法/关系运算  \n",
    "两个指针相减的结果的类型位ptrdiff_t，是一种有符号整数类型。减法运算的值是两个指针在内存中的距离(以数组元素长度为单位)"
   ]
  },
  {
   "cell_type": "markdown",
   "id": "25cc47db",
   "metadata": {},
   "source": [
    "## Chapter 7 函数"
   ]
  },
  {
   "cell_type": "markdown",
   "id": "e77df181",
   "metadata": {},
   "source": [
    "### ADT和黑盒"
   ]
  },
  {
   "cell_type": "markdown",
   "id": "8fe7728d",
   "metadata": {},
   "source": [
    "C可以用来设计和实现**抽象数据类型(ADT)**，因为他可以限制函数和数据定义的作用域。这个技巧也被称为**黑盒设计**  \n",
    "抽象数据类型的基本想法：模块具有功能说明和接口说明，前者说明模块所执行的任务，后者定义模块的使用。但是模块的用户并不需要知道模块实现的任何细节，而且除了那些定义好的接口以外，用户不能以任何方式访问模块。  \n",
    "限制对模块的访问通过static关键字的合理使用实现，它可以限制对那些并非接口的函数和数据的访问。"
   ]
  },
  {
   "cell_type": "code",
   "execution_count": null,
   "id": "11291cb9",
   "metadata": {
    "ExecuteTime": {
     "end_time": "2021-09-05T09:29:11.923630Z",
     "start_time": "2021-09-05T09:29:11.891946Z"
    }
   },
   "outputs": [],
   "source": [
    "//地址列表模块：头文件 addrlist.h\n",
    "/*地址列表模块的声明。*/\n",
    "\n",
    "/*数据特征*/\n",
    "#define NAME_LENGTH 30\n",
    "#define ADDR_LENGTH 100\n",
    "#define PHONE_LENGTH 11\n",
    "\n",
    "#define MAX_ADDRESSES 1000  //允许出现的最多地址个数\n",
    "\n",
    "/*接口函数\n",
    "**给出一个名字，查找相应的地址。\n",
    "*/\n",
    "char const* lookup_address(char const *name);\n",
    "\n",
    "/*\n",
    "**给出一个名字，查找相应的电话号码\n",
    "*/\n",
    "char const* lookup_phone(char const *name);"
   ]
  },
  {
   "cell_type": "code",
   "execution_count": null,
   "id": "bd81b05a",
   "metadata": {
    "ExecuteTime": {
     "end_time": "2021-09-05T09:39:37.949887Z",
     "start_time": "2021-09-05T09:39:37.900595Z"
    }
   },
   "outputs": [],
   "source": [
    "/*\n",
    "**用于维护一个地址列表的抽象数据类型\n",
    "*/\n",
    "#include \"addrlist.h\"\n",
    "#include <stdio.h>\n",
    "\n",
    "**\tThe three parts to each address are kept in corresponding\n",
    "**\telements of these three arrays.\n",
    "*/\n",
    "static\tchar\tname[MAX_ADDRESSES][NAME_LENGTH];\n",
    "static\tchar\taddress[MAX_ADDRESSES][ADDR_LENGTH];\n",
    "static\tchar\tphone[MAX_ADDRESSES][PHONE_LENGTH];\n",
    "\n",
    "/*\n",
    "**\tThis routine locates a name in the array and returns the\n",
    "**\tsubscript of the location found.  If the name does not exist,\n",
    "**\t-1 is returned.\n",
    "*/\n",
    "static int find_entry( char const *name_to_find )\n",
    "{\n",
    "\tint\tentry;\n",
    "\n",
    "\tfor( entry = 0; entry < MAX_ADDRESSES; entry += 1 )\n",
    "\t\tif( strcmp( name_to_find, name[ entry ] ) == 0 )\n",
    "\t\t\treturn entry;\n",
    "\n",
    "\treturn -1;\n",
    "}\n",
    "\n",
    "/*\n",
    "**\tGiven a name, look up and return the corresponding address. \n",
    "**\tIf the name was not found, return a NULL pointer instead.\n",
    "*/\n",
    "char const *lookup_address( char const *name )\n",
    "{\n",
    "\tint\tentry;\n",
    "\n",
    "\tentry = find_entry( name );\n",
    "\tif( entry == -1 )\n",
    "\t\treturn NULL;\n",
    "\telse\n",
    "\t\treturn address[ entry ];\n",
    "}\n",
    "\n",
    "/*\n",
    "**\tGiven a name, look up and return the corresponding phone\n",
    "**\tnumber. If the name was not found, return a NULL pointer\n",
    "**\tinstead.\n",
    "*/\n",
    "char const *lookup_phone( char const *name )\n",
    "{\n",
    "\tint\tentry;\n",
    "\n",
    "\tentry = find_entry( name );\n",
    "\tif( entry == -1 )\n",
    "\t\treturn NULL;\n",
    "\telse\n",
    "\t\treturn phone[ entry ];\n",
    "}\n"
   ]
  },
  {
   "cell_type": "markdown",
   "id": "e127e678",
   "metadata": {},
   "source": [
    "### 递归"
   ]
  },
  {
   "cell_type": "markdown",
   "id": "7bee9468",
   "metadata": {},
   "source": [
    "C通过运行时**堆栈**支持递归函数的实现"
   ]
  },
  {
   "cell_type": "code",
   "execution_count": null,
   "id": "da33c0e4",
   "metadata": {
    "ExecuteTime": {
     "end_time": "2021-09-05T09:50:12.957392Z",
     "start_time": "2021-09-05T09:50:12.903799Z"
    }
   },
   "outputs": [],
   "source": [
    "/*\n",
    "** Take an integer value (unsigned), convert it to characters, and\n",
    "** print it.  Leading zeros are suppressed.\n",
    "**\n",
    "** 将一个整型值（无符号）转换为字符打印\n",
    "*/\n",
    "#include <stdio.h>\n",
    "\n",
    "void binary_to_ascii( unsigned int value )\n",
    "{\n",
    "\tunsigned int\tquotient;\n",
    "\n",
    "\tquotient = value / 10;\n",
    "\tif( quotient != 0 )\n",
    "\t\tbinary_to_ascii( quotient );//进行递归调用，以实现顺序输出\n",
    "\tputchar( value % 10 + '0' );\n",
    "}"
   ]
  },
  {
   "cell_type": "markdown",
   "id": "774af7e9",
   "metadata": {},
   "source": [
    "#### 追踪递归函数"
   ]
  },
  {
   "cell_type": "markdown",
   "id": "ccb4ad13",
   "metadata": {},
   "source": [
    "#### 递归与迭代"
   ]
  },
  {
   "cell_type": "markdown",
   "id": "fd24e6dc",
   "metadata": {},
   "source": [
    "递归函数会涉及一些运行时开销——参数必须压到堆栈中，为局部变量分配内存空间。  \n",
    "许多问题是以递归的形式进行解释的，但这只是因为这种方式比其他形式更加清晰。但是，这些问题的迭代实现往往比递归实现效率更高，虽然代码的可读性可能会降低。  \n",
    "当一个问题相当复杂，难以用迭代形式实现时，此时递归实现的简洁性便可以补偿它的运行时开销。"
   ]
  },
  {
   "cell_type": "code",
   "execution_count": null,
   "id": "17aa06ff",
   "metadata": {},
   "outputs": [],
   "source": [
    "//e.g.斐波那契数列(计算第n个斐波那契数)\n",
    "//若以递归的方式描述此数列，并以此步骤计算F(n-1),F(n-2)，每个递归调用都将触发另外两个递归调用...冗余计算过多\n",
    "/*\n",
    "** Compute the value of the n'th Fibonacci number, recursively.\n",
    "*/\n",
    "\n",
    "long int fibonacci( int n )\n",
    "{\n",
    "\tif( n <= 2 )\n",
    "\t\treturn 1;\n",
    "\n",
    "\treturn fibonacci( n - 1 ) + fibonacci( n - 2 );\n",
    "}"
   ]
  },
  {
   "cell_type": "code",
   "execution_count": null,
   "id": "6bc684b7",
   "metadata": {
    "ExecuteTime": {
     "end_time": "2021-09-05T12:58:21.970789Z",
     "start_time": "2021-09-05T12:58:21.936697Z"
    }
   },
   "outputs": [],
   "source": [
    "//但如果以一个简单循环来代替递归，可以将效率提高几十万倍。\n",
    "/*\n",
    "** Compute the value of the n'th Fibonacci number, iteratively.\n",
    "*/\n",
    "\n",
    "int fibonacci(int n)\n",
    "{\n",
    "    int res=1;\n",
    "    int pre_num=1;\n",
    "    int temp;\n",
    "    while (n>2)\n",
    "    {\n",
    "        n-=1;\n",
    "        temp=pre_num;\n",
    "        pre_num=res;\n",
    "        res=temp+pre_num;\n",
    "    }\n",
    "    return res;\n",
    "}"
   ]
  },
  {
   "cell_type": "markdown",
   "id": "d9ed967a",
   "metadata": {},
   "source": [
    "### 可变参数列表"
   ]
  },
  {
   "cell_type": "markdown",
   "id": "f4f3b5e3",
   "metadata": {},
   "source": [
    "**如何让一个函数在不同情况接受不同数目的参数**  \n"
   ]
  },
  {
   "cell_type": "markdown",
   "id": "21939ffa",
   "metadata": {},
   "source": [
    "#### stdarg宏"
   ]
  },
  {
   "cell_type": "code",
   "execution_count": 19,
   "id": "654e3088",
   "metadata": {
    "ExecuteTime": {
     "end_time": "2021-09-05T13:07:23.750716Z",
     "start_time": "2021-09-05T13:07:23.713090Z"
    }
   },
   "outputs": [
    {
     "name": "stdout",
     "output_type": "stream",
     "text": [
      "3.500000"
     ]
    }
   ],
   "source": [
    "/*\n",
    "** Compute the average of the specified number of values.\n",
    "** 计算指定数量的平均数\n",
    "*/\n",
    "\n",
    "#include <stdarg.h>\n",
    "#include <stdio.h>\n",
    "int main()\n",
    "{\n",
    "    float average(int n_values, ...);\n",
    "    printf(\"%f\",average(6,1,2,3,4,5,6));\n",
    "    return 0;\n",
    "}\n",
    "float average( int n_values, ... )\n",
    "{\n",
    "\tva_list\tvar_arg;\n",
    "\tint\tcount;\n",
    "\tfloat\tsum = 0;\n",
    "\n",
    "\t/*\n",
    "\t** Prepare to access the variable arguments.\n",
    "\t*/\n",
    "\tva_start( var_arg, n_values );//进行初始化，把var_arg变量设置为指向可变参数部分的第一个参数\n",
    "\n",
    "\t/*\n",
    "\t** Add the values from the variable argument list.\n",
    "\t*/\n",
    "\tfor( count = 0; count < n_values; count += 1 )\n",
    "    {\n",
    "\t\tsum += va_arg( var_arg, int );\n",
    "\t}\n",
    "\n",
    "\t/*\n",
    "\t** Done processing variable arguments.\n",
    "\t*/\n",
    "\tva_end( var_arg );\n",
    "\n",
    "\treturn sum / n_values;\n",
    "}\n"
   ]
  },
  {
   "cell_type": "markdown",
   "id": "41369bbd",
   "metadata": {
    "ExecuteTime": {
     "end_time": "2021-09-06T02:13:10.344729Z",
     "start_time": "2021-09-06T02:13:10.330161Z"
    }
   },
   "source": [
    "## Chapter 8 数组"
   ]
  },
  {
   "cell_type": "markdown",
   "id": "92ab47bb",
   "metadata": {},
   "source": [
    " 当数组名作为sizeof操作符或单目操作符&(取地址符)的操作数时，sizeof返回整个数组的长度，而不是指向数组的指针的长度；取一个数组名的地址，所产生的是一个指向数组的指针，而不是一个指向某个指针常量的指针。"
   ]
  },
  {
   "cell_type": "markdown",
   "id": "aae4c10f",
   "metadata": {},
   "source": [
    "不能使用赋值符把一个数组的所有元素复制到另一个数组"
   ]
  },
  {
   "cell_type": "markdown",
   "id": "b82c3814",
   "metadata": {},
   "source": [
    "### 下标引用"
   ]
  },
  {
   "cell_type": "code",
   "execution_count": null,
   "id": "ef22327b",
   "metadata": {},
   "outputs": [],
   "source": [
    "int array[10];  \n",
    "int *ap=array+2;\n",
    "\n",
    "ap[0] //*(ap+0)  array[2]"
   ]
  },
  {
   "cell_type": "markdown",
   "id": "f23b1606",
   "metadata": {},
   "source": [
    "下标检查在C中是一项困难的任务：下标引用可以作用于任意的指针，而不仅仅是数组名。作用于指针的下标引用的有效性既依赖于该指针当时恰好指向什么内容，也依赖于下标的值。  \n",
    "C的下标检查所涉及的开销比想象的要多,编译器必须在程序中插入指令，证实下标表达式的结果所引用的元素和指针表达式所指向的元素属于同一个数组。这个比较操作需要**程序中所有数组的位置和长度方面的信息**，这将占用一定的空间。当程序运行时，**这些信息必须进行更新，以反映自动和动态分配的数组**，这又将占用一定的空间。"
   ]
  },
  {
   "cell_type": "markdown",
   "id": "d2d25cad",
   "metadata": {},
   "source": [
    "### 指针与下标"
   ]
  },
  {
   "cell_type": "markdown",
   "id": "69cb24fe",
   "metadata": {},
   "source": [
    "下标绝不会比指针更有效率，但指针有时会比下标更有效率    \n",
    "//下标  \n",
    "int array[10],a;  \n",
    "for (a=0;a<10;a+=1)  array[a]=0;\n",
    "\n",
    "//指针  \n",
    "int array[10],*ap;  \n",
    "for (ap=array;ap<array+10;ap++) *ap=0;\n",
    "\n",
    "在for语句的调整部分存在乘法运算，对于下标法，每次都需要进行一次**1*4(int 的长度)**，而指针法这个乘法只在编译时执行一次，在运行时并不执行乘法运算，所以在运行时所需的指令就少一些，在绝大多数机器上，程序会更小更快一些"
   ]
  },
  {
   "cell_type": "markdown",
   "id": "608736c9",
   "metadata": {},
   "source": [
    "**结论**：\n",
    "1. 当根据某个固定数目的增量在一个数组中移动时，使用指针变量将比使用下标产生效率更高的代码。当这个增量是1且机器具有地址自动增量模型时，表现将更为突出。  \n",
    "2. 声明为寄存器变量(register)的指针通常比位于静态内存和堆栈中的指针效率更高。\n",
    "3. 必须在运行时求值的表达式如`&array[SIZE]`或`array+SIZE`这样的常量表达式往往代价更高"
   ]
  },
  {
   "cell_type": "markdown",
   "id": "80af0172",
   "metadata": {},
   "source": [
    "### 数组与指针"
   ]
  },
  {
   "cell_type": "markdown",
   "id": "f3c80bfb",
   "metadata": {},
   "source": [
    "声明一个数组时，编译器将根据声明所指定的元素数量为数组保留内存空间，然后再创建数组名，它的值是一个常量，指向这段空间的起始位置  \n",
    "声明一个指针变量时，编译器只为指针本身保留内存空间，它并不为任何整型值分配内存空间。"
   ]
  },
  {
   "cell_type": "markdown",
   "id": "a85a506f",
   "metadata": {},
   "source": [
    "### 作为函数参数的数组名"
   ]
  },
  {
   "cell_type": "markdown",
   "id": "86d364ef",
   "metadata": {},
   "source": [
    "当一个数组名作为参数传递给一个函数时，此时传递给函数的是一份该指针的拷贝。函数如果执行了下标引用，实际上是对这个指针执行间接访问操作，且通过这种间接访问，函数可以访问和修改调用程序的数组元素。  \n",
    "无论函数对参数(指针)如何进行修改，都不会修改调用程序的指针实参本身，但可能修改它所指向的内容。"
   ]
  },
  {
   "cell_type": "code",
   "execution_count": null,
   "id": "5e8a2d08",
   "metadata": {},
   "outputs": [],
   "source": [
    "/*\n",
    "**  Copy the string contained in the second argument to the\n",
    "** buffer specified by the first argument.\n",
    "** 字符串复制\n",
    "*/\n",
    "void strcpy( char *buffer, char const *string )\n",
    "{\n",
    "\t/*\n",
    "\t** Copy characters until a NUL byte is copied.\n",
    "\t*/\n",
    "\twhile( (*buffer++ = *string++) != '\\0' )\n",
    "\t\t;\n",
    "}"
   ]
  },
  {
   "cell_type": "markdown",
   "id": "08de21a6",
   "metadata": {},
   "source": [
    "### 多维数组 "
   ]
  },
  {
   "cell_type": "markdown",
   "id": "9c99c471",
   "metadata": {},
   "source": [
    "压扁数组（展平数组）：用一个整形的指针遍历存储了一个二维整型数组元素的内存空间\n",
    "```c\n",
    "int matrix[3][10];\n",
    "int *mp;\n",
    "mp=&matrix[3][8];\n",
    "*mp  //matrix[3][8]\n",
    "*++mp //matrix[3][9]\n",
    "*++mp //matrix[4][0]\n",
    "```\n",
    "***这个技巧实际上是非法的，因此从某行移到下一行就无法回到包含第1行的那个子数组，应尽可能避免***"
   ]
  },
  {
   "cell_type": "markdown",
   "id": "b6bad2ef",
   "metadata": {},
   "source": [
    "`int matrix[3][10]` matrix这个名字的值是一个指向它第一个元素的指针，即指向一个包含十个整型元素的数组的值指针"
   ]
  },
  {
   "cell_type": "markdown",
   "id": "2dcd3d47",
   "metadata": {},
   "source": [
    "#### 指向数组的指针 "
   ]
  },
  {
   "cell_type": "markdown",
   "id": "db6af746",
   "metadata": {},
   "source": [
    "`int (*p)[10]`,指向整型数组的指针\n",
    "```c\n",
    "int matrix[3][6];\n",
    "int (*p)[6]=matrix;//使p指向matrix的第一行\n",
    "```"
   ]
  },
  {
   "cell_type": "markdown",
   "id": "00348327",
   "metadata": {},
   "source": [
    "#### 作为函数参数的多维数组"
   ]
  },
  {
   "cell_type": "markdown",
   "id": "739dc7d1",
   "metadata": {},
   "source": [
    "`int matrix[3][10]`,其作为函数参数时函数的原型应该为`void fun2(int (*mat)[10])`或者`void fun2(int mat[][10])`"
   ]
  },
  {
   "cell_type": "markdown",
   "id": "49022833",
   "metadata": {},
   "source": [
    "### 指针数组"
   ]
  },
  {
   "cell_type": "markdown",
   "id": "95ff16db",
   "metadata": {},
   "source": [
    "**下标引用的优先级高于间接访问**  \n",
    "`*api[10]`通常用于字符串数组等"
   ]
  },
  {
   "cell_type": "markdown",
   "id": "639bd765",
   "metadata": {
    "ExecuteTime": {
     "end_time": "2021-09-06T11:10:32.172435Z",
     "start_time": "2021-09-06T11:10:32.128621Z"
    }
   },
   "source": [
    "```c\n",
    "/*\n",
    "** Determine whether the argument matches any of the words in\n",
    "** a list of keywords, and return the index to the one it matches.\n",
    "** If no match is found, return the value -1.\n",
    "*/\n",
    "\n",
    "#include <string.h>\n",
    "\n",
    "intlookup_keyword( char const * const desired_word,char const *keyword_table[], int const size)\n",
    "{\n",
    "\tchar\tconst **kwp;\n",
    "    \n",
    "\tfor( kwp = keyword_table; kwp < keyword_table + size; kwp++ )\n",
    "\t\t/*\n",
    "\t\t** If this word matches the one we're looking for,\n",
    "\t\t** return its position in the table.\n",
    "\t\t*/\n",
    "\t\tif( strcmp( desired_word, *kwp ) == 0 )\n",
    "\t\t\treturn kwp - keyword_table;\n",
    "\n",
    "\t/*\n",
    "\t** Not found.\n",
    "\t*/\n",
    "\treturn -1;\n",
    "}\n",
    "```"
   ]
  },
  {
   "cell_type": "markdown",
   "id": "15a85be1",
   "metadata": {},
   "source": [
    "建立字符串列表有两种方式 ，指针数组 `*keyword[]={\"\",\"\",\"\"...}`或矩阵形式`keyword[][9]={\"\",\"\",\"\",....}`  \n",
    "矩阵看上去效率第一些，因为它的每一行的长度都被固定为刚好能容纳最长的关键字。但是，它不需要任何指针。另一方面，指针数组本身也要占用空间，但是每个字符串常量占据的空间的内存空间只是它本身的长度。  \n",
    "人们一般选择指针数组方案，\n",
    "```c\n",
    "char const *keyword[]={\n",
    "    \"do\",\n",
    "    \"for\",\n",
    "    \"while\",\n",
    "    NULL\n",
    "    };\n",
    "```\n",
    "这里增加了一个NULL指针，使函数在搜索这个表时能够检测到表的结束，而无需预先知道表的长度  \n",
    "`for (kwp=keyword_table;*kwp!=NULL;kwp++)`"
   ]
  },
  {
   "cell_type": "markdown",
   "id": "c50975d6",
   "metadata": {},
   "source": [
    "**总结**：\n",
    "1. 函数的指针形参应尽可能都声明为const\n",
    "2. 在有些环境中，使用register关键字提高程序的运行效率"
   ]
  },
  {
   "cell_type": "markdown",
   "id": "230d1786",
   "metadata": {},
   "source": [
    "## Chapter 9 字符串、字符和字节"
   ]
  },
  {
   "cell_type": "markdown",
   "id": "04e3bc00",
   "metadata": {},
   "source": [
    "### 字符串长度 "
   ]
  },
  {
   "cell_type": "markdown",
   "id": "41944934",
   "metadata": {},
   "source": [
    "```c\n",
    "/*\n",
    "** Compute the length of the string argument.\n",
    "*/\n",
    "#include <stddef.h>\n",
    "\n",
    "size_t strlen( char const *string )\n",
    "{\n",
    "\tint length;\n",
    "\n",
    "\tfor( length = 0; *string++ != '\\0'; )\n",
    "\t\tlength += 1;\n",
    "\t\n",
    "\treturn length;\n",
    "}\n",
    "```"
   ]
  },
  {
   "cell_type": "markdown",
   "id": "c883ed90",
   "metadata": {},
   "source": [
    "strlen返回一个类型为size_t的值，这个类型在头文件stddef.h中定义的，是一个**无符号整数类型**。  \n",
    "在表达式中使用无符号数可能导致不可预料的后果，例如下面两个表达式  \n",
    "`if (strlen(x) >= strlen(y))`  \n",
    "`if (strlen(x)-strlen(y) >=0 )`  \n",
    "看似是相等的，其实是不相等的。第一条语句将按照预期工作，但第2条语句结果将永真(strlen结果为无符号数，所以>=符号左边的表达式也是无符号数，绝不可能是负的)  \n",
    "若想要消除这个问题，可进行强制转换`(int)strlen(x)`"
   ]
  },
  {
   "cell_type": "markdown",
   "id": "dc71ba90",
   "metadata": {},
   "source": [
    "### 不受限制的字符串函数"
   ]
  },
  {
   "cell_type": "markdown",
   "id": "8528768d",
   "metadata": {},
   "source": [
    "#### 复制字符串"
   ]
  },
  {
   "cell_type": "markdown",
   "id": "6078f8a2",
   "metadata": {},
   "source": [
    "`char *strcpy(char *dst,char const *src);`  \n",
    "将src字符串复制到dst参数，dst参数必须是个字符数组或者是一个指向动态分配内存的数组的指针，**不能使用字符串常量**"
   ]
  },
  {
   "cell_type": "markdown",
   "id": "8bf8cfad",
   "metadata": {},
   "source": [
    "#### 连接字符串"
   ]
  },
  {
   "cell_type": "markdown",
   "id": "063cba50",
   "metadata": {},
   "source": [
    "`char *strcat(char *dst,char const *src);`  \n",
    "将src字符串的一份拷贝添加到dst参数的末尾。"
   ]
  },
  {
   "cell_type": "markdown",
   "id": "98fcb763",
   "metadata": {},
   "source": [
    "####  函数的返回值"
   ]
  },
  {
   "cell_type": "markdown",
   "id": "ac5dd215",
   "metadata": {},
   "source": [
    "strcpy和strcat都返回他们第一个参数的一份拷贝，即一个指向目标字符数组的指针，所以可以嵌套的调用这些函数，如  \n",
    "`strcat(strcpy(dst,a),b);`"
   ]
  },
  {
   "cell_type": "markdown",
   "id": "ec8bb7af",
   "metadata": {},
   "source": [
    "#### 字符串比较"
   ]
  },
  {
   "cell_type": "markdown",
   "id": "5b1584cb",
   "metadata": {},
   "source": [
    "`int strcmp(char const *s1,char const *s2);`"
   ]
  },
  {
   "cell_type": "markdown",
   "id": "539d6b19",
   "metadata": {},
   "source": [
    "### 长度受限的字符串函数"
   ]
  },
  {
   "cell_type": "markdown",
   "id": "dc2e51d3",
   "metadata": {},
   "source": [
    "`char *strncpy(char *dst,char const *src,size_t len);`  \n",
    "`char *strncat(char *dst,char const *src,size_t len);`  \n",
    "`int *strncmp(char const *s1,char const *s2,size_t len);`"
   ]
  },
  {
   "cell_type": "markdown",
   "id": "96abc63f",
   "metadata": {},
   "source": [
    "strncpy向dst中写入len个字符，若strlen(src)的值小于len，dst数组就用额外的NUL字节填充到len长度；若strlen(src)的值大于或等于len，那么只有len个字符被复制到dst中。**注意！它的结果将不会以NUL字节结尾**  "
   ]
  },
  {
   "cell_type": "markdown",
   "id": "8f5f7494",
   "metadata": {},
   "source": [
    "###  字符串查找基础"
   ]
  },
  {
   "cell_type": "markdown",
   "id": "d7799e04",
   "metadata": {},
   "source": [
    "####  查找一个字符"
   ]
  },
  {
   "cell_type": "markdown",
   "id": "7b708635",
   "metadata": {},
   "source": [
    "`char *strchr(char const *str,int ch);`  \n",
    "`char *strrchr(char const *str ,int ch;`  \n",
    "第二个参数是一个整型值，但是它包含了一个字符值。strchr函数查找字符ch第一次出现的位置，找到后函数返回一个指向该位置的指针。若未寻找到，则返回一个NULL指针。strrchr的功能和strchr基本一致，只是它所返回的是一个指向字符串中该字符最后一次出现的位置（最右边那个）。  \n",
    "**该函数区分大小写**"
   ]
  },
  {
   "cell_type": "markdown",
   "id": "1632b314",
   "metadata": {},
   "source": [
    "#### 查找任意几个字符 "
   ]
  },
  {
   "cell_type": "markdown",
   "id": "81a014d4",
   "metadata": {},
   "source": [
    "`char *strpbrk(char const *str,char const *group);`//查找任何一组字符**第一次**在字符串中出现的位置。  \n",
    "函数返回一个指向str中第一个匹配group中任何一个字符的字符位置。  \n",
    "```c\n",
    "char string[20]=\"Hello there,honey\";\n",
    "char *ans;\n",
    "ans=strpbrk(string,\"aeiou\");\n",
    "```\n",
    "ans所指向的位置是string+1\n",
    "**该函数区分大小写**"
   ]
  },
  {
   "cell_type": "markdown",
   "id": "796011a4",
   "metadata": {},
   "source": [
    "#### 查找一个字串 "
   ]
  },
  {
   "cell_type": "markdown",
   "id": "cfd36e13",
   "metadata": {},
   "source": [
    "`char *strstr(char const *s1,char const *s2)`  \n",
    "这个函数在s1中查找整个s2**第一次**出现的起始位置，并返回一个指向该位置的指针。若s2没有完整的出现在s1的任何地方，将返回一个NULL指针；若第2个参数是一个空字符串，函数就返回s1。  \n",
    "标准库中并存在strrstr和strrpbrk。不过我们可以自己实现。  \n",
    "```c\n",
    "/*\n",
    "** Look in the string s1 for the rightmost occurrence of the string\n",
    "** s2, and return a pointer to where it begins.\n",
    "*/\n",
    "#include <string.h>\n",
    "\n",
    "char *my_strrstr( char const *s1, char const *s2 )\n",
    "{\n",
    "\tregister char\t*last;\n",
    "\tregister char\t*current;\n",
    "\n",
    "\t/*\n",
    "\t** Initialize pointer for the last match we've found.\n",
    "\t*/\n",
    "\tlast = NULL;\n",
    "\n",
    "\t/*\n",
    "\t** Search only if the second string is not empty.  If s2 is\n",
    "\t** empty, return NULL.\n",
    "\t*/\n",
    "\tif( *s2 != '\\0' ){\n",
    "\t\t/*\n",
    "\t\t** Find the first place where s2 appears in s1.\n",
    "\t\t*/\n",
    "\t\tcurrent = strstr( s1, s2 );\n",
    "\n",
    "\t\t/*\n",
    "\t\t** Each time we find the string, save the pointer to\n",
    "\t\t** where it begins.  Then look after the string for\n",
    "\t\t** another occurrence.\n",
    "\t\t*/\n",
    "\t\twhile( current != NULL ){\n",
    "\t\t\tlast = current;\n",
    "\t\t\tcurrent = strstr( last + 1, s2 );\n",
    "\t\t}\n",
    "\t}\n",
    "\n",
    "\t/*\n",
    "\t** Return pointer to the last occurrence we found.\n",
    "\t*/\n",
    "\treturn last;\n",
    "}\n",
    "```\n",
    "strrpbrk函数类似可得。"
   ]
  },
  {
   "cell_type": "markdown",
   "id": "3accc0cb",
   "metadata": {},
   "source": [
    "### 高级字符串查找"
   ]
  },
  {
   "cell_type": "markdown",
   "id": "85a67cb6",
   "metadata": {},
   "source": [
    "#### 查找一个字符串前缀 "
   ]
  },
  {
   "cell_type": "markdown",
   "id": "e0883a01",
   "metadata": {},
   "source": [
    "`size_t strspn (char const *str,char const *group);`//该函数返回str中第一个不在字符串group中出现的字符下标。  \n",
    "`size_t strcspn(char const *str,char const *group);`  \n",
    "这两个函数用于在字符串的起始位置对字符计数：group字符串指定一个或多个字符。strspn返回str**起始部分(前缀)** 匹配group中任意字符的字符数。若group包含了空格、制表等空白字符，那么这个函数将返回str起始部分空白字符的数目。  \n",
    "例如：\n",
    "```c\n",
    "    int len1,len2;\n",
    "    char buffer[]=\"25,142,330,Smith,J,239-4123\";\n",
    "    len1=strspn(buffer,\"0123456789\");\n",
    "    len2=strspn(buffer,\",0123456789\");\n",
    "```\n",
    "其中len1=2(,)，len2=11(S);  \n",
    "`ptr=buffer+strspn(buffer,\"\\n\\r\\f\\t\\v\");`可用来计算一个指向字符串**第一个非空白字符**的指针。\n",
    "\n",
    "strcspn函数和strspn函数正好相反，它是对str字符串起始部分中不与group中任何字符匹配的字符进行计数。"
   ]
  },
  {
   "cell_type": "markdown",
   "id": "f5f2fdc8",
   "metadata": {},
   "source": [
    "#### 查找标记"
   ]
  },
  {
   "cell_type": "markdown",
   "id": "60290eb8",
   "metadata": {},
   "source": [
    "`char *strtok(char *str,char const *sep);` //函数返回被分解的第一个子字符串，如果没有可检索的字符串，则返回一个空指针。   \n",
    "该函数用于从字符串隔离各个单独的称为**标记(token)** 的部分，并丢弃分隔符。  \n",
    "sep参数是个字符串，定义了用作分隔符的字符集合。strtok找到str的下一个标记，并将其用NUL结尾，然后返回一个指向这个标记的指针。  \n",
    "**警告：**  \n",
    "*当strtok函数执行任务时，它将会修改它所处理的字符串！如果原字符串不能被修改，那就复制一份，将这份拷贝传递给strtok函数*  \n",
    "若函数第一个参数是NULL，函数就会i在同一个字符串中从当前被保存的位置开始继续查找下一个标记。  \n",
    "```c\n",
    "/*\n",
    "** Extract whitespace-delimited tokens from a character array and\n",
    "** print them one per line.\n",
    "** 从一个字符数组中提取空白字符分隔的标记并打印\n",
    "*/\n",
    "#include <stdio.h>\n",
    "#include <string.h>\n",
    "\n",
    "void print_tokens( char *line )\n",
    "{\n",
    "\tstatic\tchar\twhitespace[] = \" \\t\\f\\r\\v\\n\";\n",
    "\tchar\t*token;\n",
    "\n",
    "\tfor( token = strtok( line, whitespace );token != NULL;\n",
    "\t    token = strtok( NULL, whitespace ) )\n",
    "\t\tprintf( \"Next token is %s\\n\", token );\n",
    "}\n",
    "```  \n",
    "**警告：**  \n",
    "由于strtok函数保存它所处理的函数的局部状态信息，所以不能用它同时解析两个字符串。因此如果for循环的循环体内调用了一个在内部调用strtok函数的函数，上程序将会失效。  \n",
    "strtok函数是不可再入的（在连续几次调用中，即使他们的参数相同，其结果也可能不同）"
   ]
  },
  {
   "cell_type": "markdown",
   "id": "6b6cf960",
   "metadata": {},
   "source": [
    "### 错误信息"
   ]
  },
  {
   "cell_type": "markdown",
   "id": "0fbe79f2",
   "metadata": {},
   "source": [
    "`char *strerror(int error_number);`  \n",
    "当调用函数请求操作系统执行一些功能如打开文件时，如果出现错误，操作系统是通过设置一个外部的整型变量error进行错误代码报告的。strerror函数把其中一个错误代码作为参数并返回一个指向用于描述错误的字符串的指针。"
   ]
  },
  {
   "cell_type": "markdown",
   "id": "795bcd39",
   "metadata": {},
   "source": [
    "### 字符操作  \n",
    "标准库包含了两组函数，用于操作单独的字符，原型位于头文件ctype.h，第一组函数用于对字符分类，而第二组用于转换字符"
   ]
  },
  {
   "cell_type": "markdown",
   "id": "43feac0d",
   "metadata": {},
   "source": [
    "#### 字符分类 "
   ]
  },
  {
   "cell_type": "markdown",
   "id": "8e15048b",
   "metadata": {},
   "source": [
    "每个分类函数接受一个包含字符值的整型参数。函数测试这个字符并返回一个整型值，表示真或假。"
   ]
  },
  {
   "cell_type": "markdown",
   "id": "9de72589",
   "metadata": {},
   "source": [
    "<!-- ![jupyter](./pictures/a.jpg) -->"
   ]
  },
  {
   "cell_type": "markdown",
   "id": "e298f8eb",
   "metadata": {
    "ExecuteTime": {
     "end_time": "2021-09-08T04:47:38.085937Z",
     "start_time": "2021-09-08T04:47:38.068170Z"
    }
   },
   "source": [
    "<!-- <img src=\"./pictures/a.jpg\" width=640, heigth=480 /> -->"
   ]
  },
  {
   "cell_type": "markdown",
   "id": "83512c39",
   "metadata": {},
   "source": [
    "<img src=\"./pictures/a.jpg\" width=600 />"
   ]
  },
  {
   "cell_type": "markdown",
   "id": "6765b127",
   "metadata": {},
   "source": [
    "#### 字符转换"
   ]
  },
  {
   "cell_type": "markdown",
   "id": "33583a3a",
   "metadata": {},
   "source": [
    "`int tolower(int ch)`  \n",
    "`int toupper(int ch)`  \n",
    "大小写转换，若参数不符合条件，则函数将不修改参数直接返回"
   ]
  },
  {
   "cell_type": "markdown",
   "id": "61d180fe",
   "metadata": {},
   "source": [
    "### 内存操作"
   ]
  },
  {
   "cell_type": "markdown",
   "id": "b758f397",
   "metadata": {},
   "source": [
    "对于字符串数据内部包含NULL值的情况，无法使用字符串函数进行处理，但可以使用另一组函数\n",
    "```c\n",
    "void *memcpy(void *dst,void const *src,size_t length);//复制\n",
    "void *memmove(void *dst,void const *src,size_t length);\n",
    "void *memcmp(void const *a,void const *b,size_t length);//比较\n",
    "void *memchr(void const *a,int ch,size_t length);\n",
    "void *memset(void *a,int ch,size_t length);\n",
    "```\n",
    "这些函数在遇到NULL字节的时候并不会停止操作  "
   ]
  },
  {
   "cell_type": "markdown",
   "id": "a9db76dc",
   "metadata": {},
   "source": [
    "memcpy从src的起始位置复制length个字节到dst的内存起始位置，第三个参数指定复制值的长度（以字节计）。例如：  \n",
    "```c\n",
    "char temp[SIZE],values[SIZE];\n",
    "memcpy(temp,values,SIZE);\n",
    "```\n",
    "但是如果两个数组都是整型数组，此时语句变为`memcpy(temp,values,sizeof(values));`  \n",
    "前两个参数并不需要使用强制类型转换，因为任何类型的指针都可以转换为void* 型指针（如果函数的参数可以是任意类型指针，那么应声明其参数为void * ）  \n",
    "如果数组只有部分内容需要被复制，那么需要复制的数量必须在第三个参数中声明。对于长度大于一个字节的数据，要确保把数量和数据类型的长度相乘，\n",
    "例如  `memcpy(saved_answers,answers,count*sizeof(answers[0]);` "
   ]
  },
  {
   "cell_type": "markdown",
   "id": "d34a25ec",
   "metadata": {},
   "source": [
    "memmove函数和memcpy差不多，只是它的源和目标操作数可以重叠（可对同一个数组进行重叠操作）：函数将源操作数复制到一个临时位置，这个临时位置不会与源或目标操作数重叠，然后在把它从这个临时位置复制到目标操作数。例如：`memmove(x,x+1,(count-1)*sizeof(x[0));`"
   ]
  },
  {
   "cell_type": "markdown",
   "id": "a3a37206",
   "metadata": {},
   "source": [
    "memset函数把从a开始的length个字节都设置为字符值ch，例如`memset(buffer,0,SIZE)`把buffer的前SIZE个字节都初始化为0"
   ]
  },
  {
   "cell_type": "markdown",
   "id": "c52bb74d",
   "metadata": {},
   "source": [
    "### 总结 "
   ]
  },
  {
   "cell_type": "markdown",
   "id": "40a9a719",
   "metadata": {},
   "source": [
    "#### 警告总结"
   ]
  },
  {
   "cell_type": "markdown",
   "id": "6fdd0c34",
   "metadata": {},
   "source": [
    "1. strlen函数返回一个无符号数\n",
    "2. 有符号数和无符号数不应混用\n",
    "3. strtok函数将会修改它所处理的字符串且其不可再入"
   ]
  },
  {
   "cell_type": "markdown",
   "id": "eee0d0dc",
   "metadata": {},
   "source": [
    "#### 编程提示总结"
   ]
  },
  {
   "cell_type": "markdown",
   "id": "46a727f0",
   "metadata": {},
   "source": [
    "1. 使用字符分类和转换函数可以提高函数的移植性"
   ]
  },
  {
   "cell_type": "markdown",
   "id": "54ccf6d3",
   "metadata": {},
   "source": [
    "## Chapter 10 结构和联合 "
   ]
  },
  {
   "cell_type": "markdown",
   "id": "985e48d3",
   "metadata": {},
   "source": [
    "### 结构基础知识"
   ]
  },
  {
   "cell_type": "markdown",
   "id": "e7b8e982",
   "metadata": {},
   "source": [
    "#### 结构的声明 "
   ]
  },
  {
   "cell_type": "markdown",
   "id": "c2fe2ea0",
   "metadata": {},
   "source": [
    "声明结构时可以使用的一种良好技巧是用typedef创建一种新的类型，这样可以简化后续的声明，例如：  \n",
    "```c\n",
    "typedef struct {\n",
    "    int a;\n",
    "    char b;\n",
    "    float c;\n",
    "}Simple;\n",
    "Simple x;\n",
    "Simple y[20],*z;\n",
    "```  \n"
   ]
  },
  {
   "cell_type": "markdown",
   "id": "0cdbcfec",
   "metadata": {},
   "source": [
    "#### 结构成员的间接访问 "
   ]
  },
  {
   "cell_type": "markdown",
   "id": "7e9c5ac4",
   "metadata": {},
   "source": [
    "点操作符的优先级高于间接访问操作符。下面举例说明：假定一个函数的参数是个指向结构的指针：`void func(struct COMPLEX *cp;)`  \n",
    "函数可以使用`(*cp).f`来访问这个变量所指向的结构的成员f。  \n",
    "C语言提供了一个更为方便的操作符来完成这项工作 -> 操作符(箭头操作符)。该操作符接受两个操作数，但左操作数必须是一个指向结构的指针。箭头操作符对左操作数执行间接访问取得指针所指向的结构，然后根据右操作数选择一个指定的结构成员。`cf->f`"
   ]
  },
  {
   "cell_type": "markdown",
   "id": "6446a2a8",
   "metadata": {},
   "source": [
    "#### 结构的自引用 "
   ]
  },
  {
   "cell_type": "markdown",
   "id": "9d94e064",
   "metadata": {},
   "source": [
    "```c\n",
    "struct SELF_REF1{\n",
    "    int a;\n",
    "    struct SELF_REF1 b;\n",
    "};\n",
    "```  \n",
    "这种类型的自引用是非法的，会造成无限死循环。\n",
    "```c\n",
    "struct SELF_REF1{\n",
    "    int a;\n",
    "    struct SELF_REF1 *b;\n",
    "};```  \n",
    "\n",
    "而这个结构是合法的，**编译器在结构的长度确定之前就已经知道指针的长度**，所以这种类型的自引用是合法的。事实上这个指向该结构本身的指针所指向的是同一种类型的不同结构。链表和树都是用这种技巧实现的，每个结构指向链表的下一个元素或树的下一个分枝。\n",
    "\n",
    "<!--字长：在同一时间中处理二进制数的位数叫字长。通常称处理字长为8位数据的CPU叫8位CPU，32位CPU就是在同一时间内处理字长为32位的二进制数据。二进制的每一个0或1是组成二进制的最小单位,称为一个比特（bit）。 一般说来，计算机在同一时间内处理的一组二进制数称为一个计算机的“字”，而这组二进制数的位数就是“字长”。字长与计算机的功能和用途有很大的关系，是计算机的一个重要技术指标。字长直接反映了一台计算机的计算精度，为适应不同的要求及协调运算精度和硬件造价间的关系，大多数计算机均支持变字长运算，即机内可实现半字长、全字长（或单字长）和双倍字长运算。在其他指标相同时，字长越大计算机的处理数据的速度就越快。早期的微机字长一般是8位和16位，386以及更高的处理器大多是32位。目前市面上的计算机的处理器大部分已达到64位。 字长由微处理器（CPU）对外数据通路的数据总线条数决定。 \n",
    "最小可寻址单位：内存的最小可寻址单位通常都是字节。也就是说一个指针地址值可对应内存中一个字节的空间。 寻址空间：寻址空间一般指的是CPU对于内存寻址的能力。CPU最大能查找多大范围的地址叫做寻址能力，CPU的寻址能力以字节为单位 （字节是最小可寻址单位），如32位寻址的CPU可以寻址2的32次方大小的地址也就是4G，这也是为什么32位寻址的CPU最大能搭配4G内存的原因，再多的话CPU就找不到了。 这里CPU的寻址位数是由地址总线的位数决定，32位CPU的寻址位数不一定是32位，因为32位CPU中32的意义为字长。 有关寻址范围计算解释，对于32位寻址的CPU，其地址值为32位的二进制数，所以可以表示的最大地址为2的32次方(即4G，最大内存空间为4GB，这里G表示数量、GB表示容量)。同时我们不难看出，一个指针的值就是一个32位的二进制数，32位对应4字节(Byte)。所以，指针的大小实际上是由CPU的寻址位数决定，而不是字长。 再来分析一下如下的情况： 32位处理器上32位操作系统的32位编译器，指针大小4字节。 32位处理器上32位操作系统的16位编译器，指针大小2字节。 32位处理器上16位操作系统的16位编译器，指针大小2字节。 16位处理器上16位操作系统的16位编译器，指针大小2字节。 这从结果看起来指针的大小和编译器有关？？ 实际不是这样的，有这样的结果是因为以上几种情况，处理器当前运行模式的寻址位数是不一样的，如下： Intel 32位处理器32位运行模式，逻辑寻址位数32，指针也就是32位，即4个字节 Intel 32位处理器16位虚拟机运行模式，逻辑寻址位数16，指针也就是16位，即2个字节 编译器的作用是根据目标硬件（即CPU）的特性将源程序编译为可在该硬件上运行的目标文件。如果一个编译器支持某32位的CPU，那么它就可以将源程序编译为可以在该CPU上运行的目标文件。该源程序中指针大小也会被编译器根据该CPU的寻址位数（如32位）编译选择为4字节。 综上可得：指针大小是由当前CPU运行模式的寻址位数决定！   -->\n",
    "\n",
    "**警告：**  \n",
    "```c\n",
    "typedef struct {\n",
    "    int a;\n",
    "    struct SELF_REF1 *b;\n",
    "}SELF_REF1;\n",
    "```\n",
    "这个声明的目的是为这个结构创建类型名SELF_REF3，但是类型名直到声明的末尾才定义，所以在结构声明的内部它尚未定义。  \n",
    "解决方案是定义一个结构标签来声明b：\n",
    "```c\n",
    "typedef struct SELF_REF3_TAG{\n",
    "    int a;\n",
    "    struct SELF_REF3_TAG *b;\n",
    "}SELF_REF3;\n",
    "```"
   ]
  },
  {
   "cell_type": "markdown",
   "id": "799ca873",
   "metadata": {},
   "source": [
    "####  不完整声明"
   ]
  },
  {
   "cell_type": "markdown",
   "id": "85cc1030",
   "metadata": {},
   "source": [
    "对于相互之间存在依赖的结构，即其中一个结构包含了另一个结构的一个或多个成员。和自引用结构一样，至少有一个结构必须在另一个结构内部以指针形式存在。那么如果每个结构都引用了其他结构的标签，哪个结构应该首先声明？\n",
    "解决方案是使用**不完整声明**，它声明一个作为结构标签的标识符，然后我们可以将这个标签用在**不需要知道这个结构的长度**的声明中，如声明指向这个结构的指针。接下来的声明把这个标签与成员列表联系在一起。\n",
    "```c\n",
    "struct B;\n",
    "struct A{\n",
    "    struct B *partner;\n",
    "};\n",
    "struct B{\n",
    "    struct A *partner;\n",
    "};\n",
    "```\n",
    "在A的成员列表中需要标签B的不完整声明，一旦A被声明以后，B的成员列表也可以被声明。"
   ]
  },
  {
   "cell_type": "markdown",
   "id": "91281afa",
   "metadata": {},
   "source": [
    "###  结构、指针和成员"
   ]
  },
  {
   "cell_type": "markdown",
   "id": "33c7b3b9",
   "metadata": {},
   "source": [
    "```c\n",
    "#include <stdio.h>\n",
    "int main()\n",
    "{\n",
    "    typedef struct {\n",
    "        int a;\n",
    "        short b[2];\n",
    "    }Ex2;\n",
    "    Ex2 x={10,{1,2}};\n",
    "    Ex2 *px=&x;  //切记加上取地址符&,因为结构体名称并不表示地址\n",
    "    printf(\"%d\",px->a);\n",
    "    return 0;\n",
    "}\n",
    "```"
   ]
  },
  {
   "cell_type": "markdown",
   "id": "4cb542c3",
   "metadata": {},
   "source": [
    "优先级：箭头操作符-> \\quad   > \\quad   &、*"
   ]
  },
  {
   "cell_type": "markdown",
   "id": "7915e7e4",
   "metadata": {},
   "source": [
    "### 结构的存储分配 "
   ]
  },
  {
   "cell_type": "markdown",
   "id": "44481963",
   "metadata": {},
   "source": [
    "对于结构体而言，编译器按照成员列表的顺序一个接一个地给每个成员分配内存。只有当存储成员需要满足正确的边界条件要求时，成员之间才可能出现用于填充的额外内存空间。"
   ]
  },
  {
   "cell_type": "markdown",
   "id": "cc9b0813",
   "metadata": {},
   "source": [
    "事实上，结构成员在内存中的存储并不是想当然地一个紧挨着一个排列下来的，由于提高数据读取速度的要求以及其他一些方面的原因，计算机系统对内存中基本数据类型的存放存在一种内存对齐机制，即要求这些数据的首地址必须是某个数K（通常为4或8）的整数倍，具体规则如下：\n",
    "1. 编译器按照结构体成员列表顺序给每个成员分配内存\n",
    "2. 当成员需要满足正确的边界对齐时，成员之间用额外字节填充\n",
    "3. 结构体的首地址必须满足结构体中边界对齐要求最为严格的数据类型所要求的首地址\n",
    "4. 结构体的大小为其最宽数据类型的整数倍\n"
   ]
  },
  {
   "cell_type": "markdown",
   "id": "522f94ab",
   "metadata": {},
   "source": [
    "<img src=\"./pictures/b.png\" width=320, heigth=240 />"
   ]
  },
  {
   "cell_type": "markdown",
   "id": "b18c2ee7",
   "metadata": {},
   "source": [
    "C,16 24"
   ]
  },
  {
   "cell_type": "markdown",
   "id": "db1a3845",
   "metadata": {},
   "source": [
    "可以使用定义于stddef.h中的offsetof宏确定指定成员开始存储的位置距离结构开始存储的位置偏移几个字节。  \n",
    "`offsetof(struct,member)`"
   ]
  },
  {
   "cell_type": "markdown",
   "id": "77b8c3e3",
   "metadata": {},
   "source": [
    "### 作为函数参数的结构"
   ]
  },
  {
   "cell_type": "markdown",
   "id": "9aae7dd8",
   "metadata": {},
   "source": [
    "若把结构直接作为参数传递给一个函数是不妥当的，因为一个结构体往往占据的空间比较大，传递过程中，要将其所占空间均复制到堆栈中在传递，故采用传递指向结构的指针的方式"
   ]
  },
  {
   "cell_type": "markdown",
   "id": "5954e437",
   "metadata": {},
   "source": [
    "指针比整个结构小得多，把它压到堆栈上效率会提高很多。但另外付出的代价就是需要使用间接访问来访问结构的成员。  \n",
    "结构越大，把指向它的指针传递给函数的效率就越高。"
   ]
  },
  {
   "cell_type": "markdown",
   "id": "9557f2e4",
   "metadata": {},
   "source": [
    "在许多机器中，还可以把参数声明为寄存器变量，进一步提高指针传递的效率，但是这种声明在函数的起始部分还需要一条额外的指令，即将堆栈中的参数复制到寄存器。若后续间接访问的次数大于两三次，则节省的时间远远高于额外声明的时间。"
   ]
  },
  {
   "cell_type": "markdown",
   "id": "284fff10",
   "metadata": {},
   "source": [
    "传递结构体指针时有一个缺陷在于：函数可以对调用程序的结构体变量进行修改，可以用关键字const关键字进行防止这类修改"
   ]
  },
  {
   "cell_type": "markdown",
   "id": "3917d8f4",
   "metadata": {},
   "source": [
    "### 位段 "
   ]
  },
  {
   "cell_type": "markdown",
   "id": "bbd75b12",
   "metadata": {},
   "source": [
    "位段的声明和结构体声明类似，但是位段成员只能是int,**signed int,unsigned int**(可以显式的表明有符号数和无符号数)型，此外每个成员名后面都会制定该位段所占用的位的数目。\n",
    "```c\n",
    "struct CHAR{\n",
    "    unsigned a :7;\n",
    "    unsigned n :11;\n",
    "};\n",
    "struct CHAR ch1;\n",
    "```\n",
    "***注重可移植性的程序应该避免使用位段***"
   ]
  },
  {
   "cell_type": "markdown",
   "id": "fee21d79",
   "metadata": {},
   "source": [
    "使用位段的优势：  \n",
    "1. 能够把长度为奇数的数据包装在一起，节省存储空间。\n",
    "2. 可以很方便地访问一个整型值的部分内容。"
   ]
  },
  {
   "cell_type": "markdown",
   "id": "b502bf18",
   "metadata": {},
   "source": [
    "###  联合"
   ]
  },
  {
   "cell_type": "markdown",
   "id": "714dc46b",
   "metadata": {},
   "source": [
    "联合的所有成员引用的是内存中的**相同位置**。联合的长度是最长成员的长度\n",
    "```c\n",
    "union{\n",
    "    float f;\n",
    "    int i;\n",
    "}fi;\n",
    "```\n",
    "\n",
    "```c\n",
    "struct variable{\n",
    "    enum{INT,FLOAT,STRING} type;\n",
    "    union{\n",
    "        int i;\n",
    "        float f;\n",
    "        char *s;\n",
    "    }value;\n",
    "};\n",
    "```"
   ]
  },
  {
   "cell_type": "markdown",
   "id": "80a56b65",
   "metadata": {},
   "source": [
    "#### 变体记录 "
   ]
  },
  {
   "cell_type": "markdown",
   "id": "668f34e0",
   "metadata": {},
   "source": [
    "```c\n",
    "struct school{\n",
    "    enum{student_data,teacher_data} type;\n",
    "    union{\n",
    "        struct student student_data;\n",
    "        struct teacher teacher_data;\n",
    "    }data;\n",
    "}\n",
    "struct student{\n",
    "    int count;\n",
    "    char name[10];\n",
    "}\n",
    "struct teacher{\n",
    "    int count;\n",
    "    char name[10];\n",
    "}\n",
    "\n",
    "if (school.type== student_data}{\n",
    "    count=school.data.student_data.count;\n",
    "    name=schoole.data.student_data.name\n",
    "    }\n",
    "...\n",
    "```\n",
    "在一个成员长度不同的联合里，分配给联合的内存数量取决于它的最长成员的长度。但如果长度相差悬殊，浪费的空间也十分可观。比较好的解决方案就是在联合中存储指向不同成员的指针而不是直接存储成员本身。"
   ]
  },
  {
   "cell_type": "markdown",
   "id": "e6e55020",
   "metadata": {},
   "source": [
    "#### 联合的初始化 "
   ]
  },
  {
   "cell_type": "markdown",
   "id": "90cf0482",
   "metadata": {},
   "source": [
    "联合变量的初始化，初始值必须是联合第一个成员的类型，且必须位于{}里"
   ]
  },
  {
   "cell_type": "markdown",
   "id": "dd62f1ad",
   "metadata": {},
   "source": [
    "## 动态内存分配 "
   ]
  },
  {
   "cell_type": "markdown",
   "id": "f8bdb5f8",
   "metadata": {},
   "source": [
    "###  malloc和free"
   ]
  },
  {
   "cell_type": "markdown",
   "id": "5b6f8e26",
   "metadata": {},
   "source": [
    "```c\n",
    "#include <stdilib.h>\n",
    "void *malloc(size_t size);\n",
    "void free(void *pointer);\n",
    "```\n",
    "malloc返回一个指向被分配的内存块起始位置的指针。malloc分配的是一块连续的内存。若无法分配所需的内存，则返回NULL。因此，**对每个malloc返回的指针都应进行检查!!!!!!!!**  "
   ]
  },
  {
   "cell_type": "markdown",
   "id": "2b8799ec",
   "metadata": {},
   "source": [
    "### calloc和realloc "
   ]
  },
  {
   "cell_type": "markdown",
   "id": "8c13e99d",
   "metadata": {},
   "source": [
    "```c\n",
    "void *calloc(size_t num_elements,size_t element_size);\n",
    "void realloc(void *ptr,size_t new_size);\n",
    "```"
   ]
  },
  {
   "cell_type": "markdown",
   "id": "9e42c833",
   "metadata": {},
   "source": [
    "calloc和malloc的区别在于，calloc返回指向内存的指针之前把它初始化为0.  \n",
    "realloc用于修改一个原先已经分配好的内存块的大小。若原先的内存块无法改变大小，realloc将分配另一块正确大小的内存，并把原先那块内存的内容复制到新的块上。"
   ]
  },
  {
   "cell_type": "markdown",
   "id": "5f011dca",
   "metadata": {},
   "source": [
    "### 使用动态分配的内存 "
   ]
  },
  {
   "cell_type": "markdown",
   "id": "d55d7168",
   "metadata": {},
   "source": [
    "```c\n",
    "int *pi;\n",
    "pi=malloc(25*sizeof(int));\n",
    "int *pi2;\n",
    "pi2=pi;\n",
    "for (int i=0;i<25;i++)\n",
    "{\n",
    "    *pi2++=0;\n",
    "}\n",
    "```"
   ]
  },
  {
   "cell_type": "markdown",
   "id": "dffa9b5e",
   "metadata": {},
   "source": [
    "### 常见的动态分配错误！ "
   ]
  },
  {
   "cell_type": "markdown",
   "id": "ddf32532",
   "metadata": {},
   "source": [
    "#### 忘记检查请求内存是否成功分配 "
   ]
  },
  {
   "cell_type": "markdown",
   "id": "1d401a8e",
   "metadata": {},
   "source": [
    "下面的程序实现了错误检查分配器的接口，程序中MALLOC宏接受元素的数目及类型，计算总共需要的内存字节数，并调用alloc获得内存。alloc调用malloc并进行检查，确保返回的指针不是NULL。  \n",
    "#define指令用于防止由于其他代码块直接被塞入程序而导致的偶尔直接调用malloc行为，增加这个指令后，如果程序偶尔调用了malloc，程序将由于语法错误而无法编译。而在alloc当中必须加入#undef指令，这样他才能调用malloc。\n",
    "\n",
    "```c\n",
    "#include <stdlib.h>\n",
    "\n",
    "#define\tmalloc\t\t\tDON'T CALL malloc DIRECTLY!\n",
    "#define\tMALLOC(num,type)\t(type *)alloc( (num) * sizeof(type) )\n",
    "extern\tvoid\t*alloc( size_t size );\n",
    "```\n",
    "alloc.h\n",
    "```c\n",
    "#include <stdio.h>\n",
    "#include \"alloc.h\"\n",
    "#undef\tmalloc\n",
    "\n",
    "void *alloc( size_t size )\n",
    "{\n",
    "\tvoid *new_mem;\n",
    "\tnew_mem = malloc( size );\n",
    "\tif( new_mem == NULL )\n",
    "    {\n",
    "\t\tprintf( \"Out of memory!\\en\" );\n",
    "\t\texit( 1 );\n",
    "\t}\n",
    "\treturn new_mem;\n",
    "}\n",
    "```\n",
    "alloc.c\n",
    "```c\n",
    "/*\n",
    "** A program that uses the less error-prone memory allocator.\n",
    "*/\n",
    "#include \"alloc.h\"\n",
    "\n",
    "void\n",
    "function()\n",
    "{\n",
    "\tint\t*new_memory;\n",
    "\n",
    "\t/*\n",
    "\t** Get space for a bunch of integers\n",
    "\t*/\n",
    "\tnew_memory = MALLOC( 25, int );\n",
    "\t/* ... */\n",
    "}\n",
    "```\n",
    "接口的调用"
   ]
  },
  {
   "cell_type": "markdown",
   "id": "289d6f9f",
   "metadata": {},
   "source": [
    "#### 操作内存时超出了分配内存 "
   ]
  },
  {
   "cell_type": "markdown",
   "id": "7d6cbf03",
   "metadata": {},
   "source": [
    "往往是下标引用时出错"
   ]
  },
  {
   "cell_type": "markdown",
   "id": "feab5ef1",
   "metadata": {},
   "source": [
    "## 使用结构和指针 "
   ]
  },
  {
   "cell_type": "markdown",
   "id": "f87053c6",
   "metadata": {},
   "source": [
    "###  链表"
   ]
  },
  {
   "cell_type": "markdown",
   "id": "992bec14",
   "metadata": {},
   "source": [
    "### 单链表 "
   ]
  },
  {
   "cell_type": "markdown",
   "id": "9a863b18",
   "metadata": {},
   "source": [
    "#### 链表的创建、查找、修改、删除"
   ]
  },
  {
   "cell_type": "markdown",
   "id": "52a7ac57",
   "metadata": {},
   "source": [
    "```c\n",
    "typedef struct NODE{\n",
    "    srtuct NODE *next_link;\n",
    "    int value;\n",
    "}link;\n",
    "```"
   ]
  },
  {
   "cell_type": "markdown",
   "id": "8f5cd79e",
   "metadata": {},
   "source": [
    "```c\n",
    "link *init_Link()// 链表初始化\n",
    "{\n",
    "    link *root=(link*)malloc(sizeof(link));//创建一个头结点\n",
    "    link *last_node=root;//声明一个指针指向头结点，用于遍历链表\n",
    "    //生成链表\n",
    "    for (int i=1; i<5; i++) {\n",
    "        link *a=(link*)malloc(sizeof(link));\n",
    "        a->value=i;\n",
    "        a->next_link=NULL;\n",
    "        last_node->next_link=a;\n",
    "        last_node=last_node->next_link;\n",
    "    }\n",
    "    return root;\n",
    "}\n",
    "```"
   ]
  },
  {
   "cell_type": "markdown",
   "id": "78a8c676",
   "metadata": {},
   "source": [
    "```c\n",
    "int select_Value(link *root,int value)  //链表查找某一元素\n",
    "{\n",
    "    link *t=root;\n",
    "    int i=1;\n",
    "    while (t->next_link) \n",
    "    {\n",
    "        t=t->next;\n",
    "        if (t->value == value) \n",
    "        {\n",
    "            return i;\n",
    "        }\n",
    "        i++;\n",
    "    }\n",
    "    return -1;\n",
    "}\n",
    "```"
   ]
  },
  {
   "cell_type": "markdown",
   "id": "e6089484",
   "metadata": {},
   "source": [
    "```c\n",
    "link *change_value(link *root,int nodenum,int new_value)//修改某节点的数据域\n",
    "{\n",
    "    link *temp=root;\n",
    "    temp=temp->next_link;//在遍历之前，temp指向首元结点\n",
    "    //遍历到被修改结点\n",
    "    for (int i=1; i<nodenum; i++) \n",
    "    {\n",
    "        temp=temp->next_link;\n",
    "    }\n",
    "    temp->value=new_value;\n",
    "    return p;\n",
    "}\n",
    "link *del_value(link *root,int nodenum)\n",
    "{\n",
    "        link * temp=root;\n",
    "        //temp指向被删除结点的上一个结点\n",
    "        for (int i=1; i<nodenum; i++) \n",
    "        {\n",
    "            temp=temp->next_node;\n",
    "        }\n",
    "        link *del=temp->next;//单独设置一个指针指向被删除结点，以防丢失\n",
    "        temp->next=temp->next->next;//删除某个结点的方法就是更改前一个结点的指针域\n",
    "        free(del);//手动释放该结点，防止内存泄漏\n",
    "        return root;\n",
    "    }\n",
    "```"
   ]
  },
  {
   "cell_type": "markdown",
   "id": "096c7d02",
   "metadata": {},
   "source": [
    "#### 在单链表中插入 "
   ]
  },
  {
   "cell_type": "code",
   "execution_count": 52,
   "id": "4bd7317a",
   "metadata": {
    "ExecuteTime": {
     "end_time": "2021-09-17T15:40:25.640687Z",
     "start_time": "2021-09-17T15:40:25.593807Z"
    }
   },
   "outputs": [
    {
     "name": "stdout",
     "output_type": "stream",
     "text": [
      "2 6 12 15 16 "
     ]
    }
   ],
   "source": [
    "#include <stdio.h>\n",
    "#include <stdlib.h>\n",
    "\n",
    "typedef struct NODE{\n",
    "    struct NODE *next_node;\n",
    "    int value;\n",
    "}link;\n",
    "\n",
    "int main()\n",
    "{\n",
    "    link *init_Link();\n",
    "    void insert_value(link **root,int value);\n",
    "    void insert2_value(register link **linkp,int value);\n",
    "    link *root=(link*)malloc(sizeof(link));\n",
    "    root=init_Link();\n",
    "    //root=root->next_node;\n",
    "    link **p=&root->next_node;\n",
    "    insert2_value(p,16);\n",
    "    for (int i=1;i<6;i++)\n",
    "    {\n",
    "        root=root->next_node;\n",
    "        printf(\"%d \",root->value);\n",
    "    }\n",
    "    return 0;\n",
    "}\n",
    "link *init_Link()// 链表初始化\n",
    "{\n",
    "    link *root=(link*)malloc(sizeof(link));//创建一个头结点\n",
    "    link *last_node=root;//声明一个指针指向头结点，用于遍历链表\n",
    "    //生成链表\n",
    "    int num[5]={0,2,6,12,15};\n",
    "    for (int i=1; i<5; i++) {\n",
    "        link *a=(link*)malloc(sizeof(link));\n",
    "        a->value=num[i];\n",
    "        a->next_node=NULL;\n",
    "        last_node->next_node=a;\n",
    "        last_node=last_node->next_node;\n",
    "    }\n",
    "    return root;\n",
    "}\n",
    "void insert_value(link **root,int value)//向单链表中插入值（考虑在头或尾进行插入的情况，故把一个指向root的指针传给函数）\n",
    "{\n",
    "    link *current;\n",
    "    link *previous;\n",
    "    link *new;\n",
    "    \n",
    "    current=*root;\n",
    "    //current=current->next_node;  //指向第一个节点的指针\n",
    "    previous=NULL;\n",
    "    while (current!=NULL && current->next_node !=NULL && current->next_node->value <value)\n",
    "    {\n",
    "        previous=current;\n",
    "        current=current->next_node;\n",
    "    }\n",
    "    new=(link*)malloc(sizeof(link));\n",
    "    new->value=value;\n",
    "    new->next_node=current->next_node;\n",
    "    if (current==NULL) \n",
    "    {\n",
    "        previous->next_node=new;\n",
    "    }\n",
    "    else\n",
    "    {\n",
    "        current->next_node=new;\n",
    "    }\n",
    "}\n",
    "void insert2_value(register link **linkp,int value)//向单链表中插入值,参数为指向链表第一个节点的指针\n",
    "/*\n",
    "** version:2.0\n",
    "** 说明:不再需要previous指针，简化插入函数\n",
    "*/\n",
    "{\n",
    "    register link *current;\n",
    "    register link *new;\n",
    "    \n",
    "    while ((current=*linkp)!=NULL && current->value <value)\n",
    "    {\n",
    "        linkp=&current->next_node;  //指向当前节点下一节点的地址\n",
    "    }\n",
    "    new=(link*)malloc(sizeof(link));\n",
    "    new->value=value;\n",
    "    new->next_node=current;//当插入值位于最后时，此时，current=NULL，而*linkp是上一节点的成员下一节点的地址\n",
    "    //当插入值位于最起始位置时，current即为第一个节点，此时的linkp为根节点中所指向的第一个节点，故改变root指向new元素。\n",
    "    *linkp=new;\n",
    "}"
   ]
  },
  {
   "cell_type": "markdown",
   "id": "a366bda9",
   "metadata": {
    "ExecuteTime": {
     "end_time": "2021-09-17T13:13:23.817783Z",
     "start_time": "2021-09-17T13:13:23.799075Z"
    }
   },
   "source": [
    "**为什么链表一定要根节点？为什么链表需要动态内存分配？**"
   ]
  },
  {
   "cell_type": "markdown",
   "id": "b46515aa",
   "metadata": {},
   "source": [
    "### 双链表"
   ]
  },
  {
   "cell_type": "markdown",
   "id": "144d3e22",
   "metadata": {},
   "source": [
    "```c\n",
    "typedef struct NODE{\n",
    "    struct NODE *fwd;\n",
    "    struct NODE *bwd;\n",
    "    int value;\n",
    "}link;\n",
    "```\n",
    "双链表每个节点都包含两个指针，指向前一个节点的指针和指向后一个节点的指针。这可以使我们**以任何方向遍历双链表，甚至可以忽前忽后**地在双链表中进行访问。  \n",
    "根节点的fwd指向第一个节点，bwd指向最后一个节点。若链表为空，则这两个字段都为NULL。链表第一个节点的bwd字段和最后一个节点的fwd字段都是NULL。"
   ]
  },
  {
   "cell_type": "markdown",
   "id": "c9d1c52b",
   "metadata": {},
   "source": [
    "#### 双链表的创建、查找、修改、删除"
   ]
  },
  {
   "cell_type": "code",
   "execution_count": 32,
   "id": "1de6d333",
   "metadata": {
    "ExecuteTime": {
     "end_time": "2021-09-19T08:37:10.165641Z",
     "start_time": "2021-09-19T08:37:10.081586Z"
    }
   },
   "outputs": [
    {
     "name": "stdout",
     "output_type": "stream",
     "text": [
      "1 <-> 2 <-> 3 <-> 4 <-> 5 <-> 99\n"
     ]
    }
   ],
   "source": [
    "#include <stdio.h>\n",
    "#include <stdlib.h>\n",
    "\n",
    "typedef struct NODE{\n",
    "    struct NODE *next_node;\n",
    "    struct NODE *pre_node;\n",
    "    int value;\n",
    "}link;\n",
    "int main()\n",
    "{\n",
    "    link *init_link(link *root,int length);\n",
    "    void print_link(link *const root);\n",
    "    int search_node(link *const root,int value);\n",
    "    link* delete_node(link *root,int node_value);\n",
    "    link *amend_value(link *root,int location,int new_value);\n",
    "    \n",
    "    link *root;\n",
    "    root=init_link(root,6);\n",
    "    //print_link(root);\n",
    "    //printf(\"%d\",search_node(root,18));\n",
    "    //print_link(delete_node(root,7));\n",
    "    print_link(amend_value(root,6,99));\n",
    "}\n",
    "link *init_link(link *root,int length)  //双链表初始化\n",
    "{\n",
    "    root=(link*)malloc(sizeof(link));  //创建根节点\n",
    "    root->pre_node=NULL;\n",
    "    root->next_node=NULL;\n",
    "    //root->value=1;\n",
    "    link *list=root;\n",
    "    for (int i=1;i<length+1;i++)\n",
    "    {\n",
    "        link *node=(link*)malloc(sizeof(link));\n",
    "        node->pre_node=NULL;\n",
    "        node->next_node=NULL;\n",
    "        node->value=i;\n",
    "        list->next_node=node;\n",
    "        node->pre_node=list;\n",
    "        list=list->next_node;\n",
    "    }\n",
    "    root->pre_node=list;\n",
    "    return root;\n",
    "}\n",
    "void print_link(link * const root)//输出\n",
    "{\n",
    "    /*\n",
    "    for (int i=0;i<length;i++)\n",
    "    {\n",
    "        root=root->next_node;\n",
    "        printf(\"%d \",root->value);\n",
    "    }\n",
    "    */\n",
    "    link *temp=root->next_node;\n",
    "    while (temp)\n",
    "    {\n",
    "        //如果该节点无后继节点，说明此节点是链表的最后一个节点\n",
    "        if (temp->next_node==NULL) \n",
    "        {\n",
    "            printf(\"%d\\n\",temp->value);\n",
    "        }else\n",
    "        {\n",
    "            printf(\"%d <-> \",temp->value);\n",
    "        }\n",
    "        temp=temp->next_node;\n",
    "    }\n",
    "}\n",
    "int search_node(link *const root,int value)\n",
    "{\n",
    "    link *temp=root;\n",
    "    for (int i=1;temp->next_node!=NULL;i++)\n",
    "    {\n",
    "        temp=temp->next_node;\n",
    "        if (temp->value==value)\n",
    "        {\n",
    "            return i;\n",
    "        }\n",
    "    }\n",
    "    return -1;\n",
    "}\n",
    "link* delete_node(link *root,int node_value)//删除\n",
    "{\n",
    "    link *temp=root;\n",
    "    while (temp->next_node)\n",
    "    {\n",
    "        temp=temp->next_node;\n",
    "        if (node_value==temp->value)\n",
    "        {\n",
    "            temp->pre_node->next_node=temp->next_node;\n",
    "            temp->next_node->pre_node=temp->pre_node;\n",
    "            free(temp);\n",
    "            return root;\n",
    "        }\n",
    "    }\n",
    "    printf(\"未找到该节点!\\n\");\n",
    "    return root;\n",
    "}\n",
    "link *amend_value(link *root,int location,int new_value)//修改\n",
    "{\n",
    "    link *temp=root->next_node;\n",
    "    //遍历到被删除结点\n",
    "    for (int i=1; i<location; i++) \n",
    "    {\n",
    "        temp=temp->next_node;\n",
    "        if (!temp)\n",
    "        {\n",
    "            printf(\"未找到该节点！\\n\");\n",
    "            return root;\n",
    "        }\n",
    "    }\n",
    "    temp->value=new_value;\n",
    "    return root;\n",
    "}\n"
   ]
  },
  {
   "cell_type": "markdown",
   "id": "6f5b7186",
   "metadata": {},
   "source": [
    "#### 在双链表中插入"
   ]
  },
  {
   "cell_type": "code",
   "execution_count": 3,
   "id": "9ec02b15",
   "metadata": {
    "ExecuteTime": {
     "end_time": "2021-09-20T10:35:44.597850Z",
     "start_time": "2021-09-20T10:35:44.553855Z"
    },
    "code_folding": [
     21,
     41
    ]
   },
   "outputs": [
    {
     "name": "stdout",
     "output_type": "stream",
     "text": [
      "1 <-> 2 <-> 3 <-> 4 <-> 5 <-> 5 <-> 6\n"
     ]
    }
   ],
   "source": [
    "#include <stdio.h>\n",
    "#include <stdlib.h>\n",
    "\n",
    "typedef struct NODE{\n",
    "    struct NODE *next_node;\n",
    "    struct NODE *pre_node;\n",
    "    int value;\n",
    "}link;\n",
    "int main()\n",
    "{\n",
    "    link *init_link(link *root,int length);\n",
    "    void print_link(link *const root);\n",
    "    int insert_link(link *root,int value);//有序列表插值\n",
    "    link *root;\n",
    "    root=init_link(root,6);\n",
    "    insert_link(root,5);\n",
    "    print_link(root);\n",
    "    //printf(\"%d\",root->pre_node->value);\n",
    "}\n",
    "\n",
    "link *init_link(link *root,int length)  //双链表初始化\n",
    "{\n",
    "    root=(link*)malloc(sizeof(link));  //创建根节点\n",
    "    root->pre_node=NULL;\n",
    "    root->next_node=NULL;\n",
    "    //root->value=1;\n",
    "    link *list=root;\n",
    "    for (int i=1;i<length+1;i++)\n",
    "    {\n",
    "        link *node=(link*)malloc(sizeof(link));\n",
    "        node->pre_node=NULL;\n",
    "        node->next_node=NULL;\n",
    "        node->value=i;\n",
    "        list->next_node=node;\n",
    "        node->pre_node=list;\n",
    "        list=list->next_node;\n",
    "    }\n",
    "    if (length>0) root->pre_node=list;\n",
    "    return root;\n",
    "}\n",
    "void print_link(link * const root)//输出\n",
    "{\n",
    "    link *temp=root->next_node;\n",
    "    while (temp)\n",
    "    {\n",
    "        //如果该节点无后继节点，说明此节点是链表的最后一个节点\n",
    "        if (temp->next_node==NULL) \n",
    "        {\n",
    "            printf(\"%d\\n\",temp->value);\n",
    "        }\n",
    "        else\n",
    "        {\n",
    "            printf(\"%d <-> \",temp->value);\n",
    "        }\n",
    "        temp=temp->next_node;\n",
    "    }\n",
    "}\n",
    "int insert_link(register link *root,int value)\n",
    "{\n",
    "    link *new_node;\n",
    "    new_node=(link*)malloc(sizeof(link));\n",
    "    if (!new_node ) return -1;//判断内存分配是否成功\n",
    "    new_node->value=value;\n",
    "    link *pre_new_node;\n",
    "    link *next_new_node;\n",
    "    \n",
    "    //查找new_node应该放置的位置\n",
    "    for (pre_new_node=root;(next_new_node=pre_new_node->next_node);pre_new_node=next_new_node)\n",
    "    {\n",
    "        if (next_new_node->value>value) break;\n",
    "    }\n",
    "    \n",
    "    pre_new_node->next_node=new_node;\n",
    "    if (next_new_node)  //待插入节点不在链表尾部\n",
    "    {\n",
    "        //pre_new_node->next_node=new_node;\n",
    "        next_new_node->pre_node=new_node;\n",
    "        new_node->pre_node=pre_new_node;\n",
    "        new_node->next_node=next_new_node;\n",
    "    }\n",
    "    else  //待插入节点在链表尾部\n",
    "    {\n",
    "        //pre_new_node->next_node=new_node;\n",
    "        new_node->pre_node=pre_new_node;\n",
    "        new_node->next_node=NULL;\n",
    "        root->pre_node=new_node;\n",
    "    }\n",
    "    return 1;\n",
    "}"
   ]
  },
  {
   "cell_type": "code",
   "execution_count": null,
   "id": "f16d7b9f",
   "metadata": {},
   "outputs": [],
   "source": []
  },
  {
   "cell_type": "markdown",
   "id": "b21fa88f",
   "metadata": {},
   "source": [
    "**编程时一定注意边界条件！！！**"
   ]
  },
  {
   "cell_type": "markdown",
   "id": "66dac587",
   "metadata": {},
   "source": [
    "## 高级指针话题 "
   ]
  },
  {
   "cell_type": "markdown",
   "id": "4290b978",
   "metadata": {},
   "source": [
    "### 高级声明"
   ]
  },
  {
   "cell_type": "markdown",
   "id": "17570fb8",
   "metadata": {},
   "source": [
    "`int (*f) ()`:f为一个函数指针  \n",
    "`int *f[]`:f为一个指针数组  \n",
    "`int (*f[])()`:f是一个数组，数组元素的类型为函数指针，它所指向的函数的返回值是一个整型值"
   ]
  },
  {
   "cell_type": "markdown",
   "id": "47c8bd53",
   "metadata": {},
   "source": [
    "###  函数指针"
   ]
  },
  {
   "cell_type": "markdown",
   "id": "5c7b9005",
   "metadata": {},
   "source": [
    "函数指针最常见的用途：转换表和作为参数传递给另一个函数\n",
    "```c\n",
    "int f(int);\n",
    "int (*pf)(int)=&f\n",
    "```"
   ]
  },
  {
   "cell_type": "markdown",
   "id": "6eaa95a0",
   "metadata": {},
   "source": [
    "初始化表达式中的&操作符是可选的，因为**函数名被使用时总是由编译器将它转换为函数指针**。&操作符只是显式地说明了编译器将隐式执行的任务"
   ]
  },
  {
   "cell_type": "markdown",
   "id": "5cb46b92",
   "metadata": {},
   "source": [
    "在函数指针被声明且初始化之后，可以用三种方式来调用函数：\n",
    "```c\n",
    "int ans;\n",
    "ans=f(25);\n",
    "ans=(*pf)(25);\n",
    "ans=pf(25)\n",
    "```\n",
    " "
   ]
  },
  {
   "cell_type": "markdown",
   "id": "8d0973c6",
   "metadata": {},
   "source": [
    "#### 回调函数 "
   ]
  },
  {
   "cell_type": "markdown",
   "id": "83cf2af6",
   "metadata": {},
   "source": [
    "这里有一个简单的函数,它用于在一个单链表中查找一个值。它的参数是一个指向链表第节点的指针以及那个需要查找的值。\n",
    "```c\n",
    "int search_node(link *const root,int const value)\n",
    "{\n",
    "    link *temp=root;\n",
    "    for (int i=1;temp->next_node!=NULL;i++)\n",
    "    {\n",
    "        temp=temp->next_node;\n",
    "        if (temp->value==value)\n",
    "        {\n",
    "            return i;\n",
    "        }\n",
    "    }\n",
    "    return -1;\n",
    "}\n",
    "```\n",
    "这个函数看上去相当简单,但它只适用于值为整数的链表。如果你需要在一个字符串链表中查找,你不得不另外编写一个函数。这个函数和上面那个函数的绝大部分代码相同,只是第2个参数的类型以及节点值的比较方法不同。一种更为通用的方法是使查找函数与类型无关,这样它就能用于任何类型的值的链表。我们必须对函数的两个方面进行修改,使它与类型无关。  \n",
    "1. 首先,我们必须改变比较的执行方式,这样函数就可以对任何类型的值进行比较。这个目标听上去好像不可能,如果你编写语句用于比较整型值怎么还可能用于其他类型如字符串的比较呢?解决方案就是使用函数指针。调用者编写一个函数用于比较两个值,然后把一个指向这个函数的指针作为参数传递给查找函数。然后查找函数调用这个函数来执行值的比较。使用这种方法,任何类型的值都可以进行比较。  \n",
    "2. 我们必须修改的第2个方面是向函数传递一个指向值的指针而不是值本身。函数有一个void*形参,用于接收这个参数。然后指向这个值的指针便传递给比较函数。这个修改使字符串和数组对象也可以被使用。字符串和数组无法作为参数传递给函数,但指向它们的指针却可以使用这种技巧的函数被称为**回调函数(callback function)**,因为用户把一个函数指针作为参数传递给其他函数,后者将“回调”用户的函数。任何时候,如果你所编写的函数必须能够在不同的时刻执行不同类型的工作或者执行只能由函数调用者定义的工作,你都可以使用这个技巧。许多窗口系统使用回调函数连接多个动作,如拖拽鼠标和点击按钮来指定用户程序中的某个特定函数我们无法在这个上下文环境中为回调函数编写一个准确的原型,因为我们并不知道进行比较的值的类型。事实上,我们需要查找函数能作用于任何类型的值。解决这个难题的方法是把参数类型声明为void*,表示“一个指向未知类型的指针”。\n",
    "```c\n",
    "#include <string.h>\n",
    "link *search_list(link *node,void const *value,int (*compare)(void const*,void const*))\n",
    "{\n",
    "\twhile( node != NULL )\n",
    "    {\n",
    "\t\tif( compare(&node->value,value)== 0 )\n",
    "\t\t\tbreak;\n",
    "\t\tnode = node->link;\n",
    "\t}\n",
    "\treturn node;\n",
    "}\n",
    "int compare_int(void const *a,void const *b)\n",
    "{\n",
    "    if (*(int*)a ==*(int*)b) return 0;\n",
    "    return1;\n",
    "}\n",
    "desired_node=search_list(root,&desired_value,compare_int);\n",
    "desired_node=search_list(root,\"desired_value\",strcmp);\n",
    "```"
   ]
  },
  {
   "cell_type": "markdown",
   "id": "476cdc70",
   "metadata": {},
   "source": [
    "#### 转移表 "
   ]
  },
  {
   "cell_type": "markdown",
   "id": "632bdd84",
   "metadata": {},
   "source": [
    "将具体操作和选择操作的代码分开。转换表就是一个函数指针数组。\n",
    "创建转换表：\n",
    "1. 声明并初始化一个函数指针数组；\n",
    "```c\n",
    "double add(double,double);\n",
    "double sub(double,double);\n",
    "double mul(double,double);\n",
    "double div(double,double);\n",
    "...\n",
    "double (*oper_func[])(double,double)={add,sub,mul,div...}\n",
    "```\n",
    "2.用`result=oper_func[oper](op1,op2)`替换switch语句,oper是某一计算指令的整型代码，op1,op2为运算值"
   ]
  },
  {
   "cell_type": "markdown",
   "id": "925c2c7e",
   "metadata": {},
   "source": [
    "### 命令行参数 "
   ]
  },
  {
   "cell_type": "markdown",
   "id": "d75eb1e3",
   "metadata": {},
   "source": [
    "####  传递命令行参数"
   ]
  },
  {
   "cell_type": "markdown",
   "id": "42aafa29",
   "metadata": {},
   "source": [
    "`int main(int argc,char **argv)`"
   ]
  },
  {
   "cell_type": "markdown",
   "id": "f25d8cf5",
   "metadata": {},
   "source": [
    "```c\n",
    "#include <stdio.h>\n",
    "#include <stdlib.h>\n",
    "\n",
    "int main( int argc, char **argv )//打印命令行参数\n",
    "{\n",
    "\t/*\n",
    "\t** Print arguments until a NULL pointer is reached (argc is\n",
    "\t** not used).  The program name is skipped.\n",
    "\t*/\n",
    "\twhile( *++argv != NULL )\n",
    "\t\tprintf( \"%s\\n\", *argv );\n",
    "\treturn EXIT_SUCCESS;\n",
    "}\n",
    "```"
   ]
  },
  {
   "cell_type": "markdown",
   "id": "ae85097e",
   "metadata": {},
   "source": [
    "#### 处理命令行参数 "
   ]
  },
  {
   "cell_type": "markdown",
   "id": "098cd9cf",
   "metadata": {},
   "source": [
    "```c\n",
    "/*\n",
    "** Process command-line arguments\n",
    "*/\n",
    "#include <stdio.h>\n",
    "#define\tTRUE\t1\n",
    "\n",
    "/*\n",
    "**\tPrototypes for functions that do the real work.\n",
    "*/\n",
    "void process_standard_input( void );\n",
    "void process_file( char *file_name );\n",
    "\n",
    "/*\n",
    "**\tOption flags, default initialization is FALSE.\n",
    "*/\n",
    "int option_a, option_b /* etc. */ ;\n",
    "\n",
    "void main( int argc, char **argv )\n",
    "{\n",
    "\t/*\n",
    "\t** Process option arguments: skip to next argument, and\n",
    "\t** check that it begins with a dash.\n",
    "\t*/\n",
    "\twhile( *++argv != NULL && **argv == '-' )\n",
    "    {\n",
    "\t\t/*\n",
    "\t\t** Check the letter after the dash.\n",
    "\t\t*/\n",
    "\t\tswitch( *++*argv ){\n",
    "\t\tcase 'a':\n",
    "\t\t\toption_a = TRUE;\n",
    "\t\t\tbreak;\n",
    "\n",
    "\t\tcase 'b':\n",
    "\t\t\toption_b = TRUE;\n",
    "\t\t\tbreak;\n",
    "\n",
    "\t\t/* etc. */\n",
    "\t\t}\n",
    "\t}\n",
    "\n",
    "\t/*\n",
    "\t** Process file name arguments\n",
    "\t*/\n",
    "\tif( *argv == NULL )\n",
    "\t\tprocess_standard_input();\n",
    "\telse {\n",
    "\t\tdo {\n",
    "\t\t\tprocess_file( *argv );\n",
    "\t\t} while( *++argv != NULL );\n",
    "\t}\n",
    "}\n",
    "```"
   ]
  },
  {
   "cell_type": "markdown",
   "id": "7bb054d3",
   "metadata": {},
   "source": [
    "## 预处理器 "
   ]
  },
  {
   "cell_type": "markdown",
   "id": "7c5e9a34",
   "metadata": {},
   "source": [
    "###  #define"
   ]
  },
  {
   "cell_type": "markdown",
   "id": "3f60c6ec",
   "metadata": {},
   "source": [
    "#### 宏"
   ]
  },
  {
   "cell_type": "markdown",
   "id": "ac4f3773",
   "metadata": {},
   "source": [
    "#define机制包括了一个规定,允许把参数替换到文本中,这种实现通常称为**宏(macro)或定义宏(defined macro)**。下面是宏的声明方式\n",
    "`#define name(parameter-list) stuff`.其中, parameter-list(参数列表)是一个由逗号分隔的符号列表,它们可能出现在stuff中。参\n",
    "数列表的左括号必须与name紧邻。如果两者之间有任何空白存在,参数列表就会被解释为stuff的部分.当宏被调用时,名字后面是一个由逗号分隔的值的列表,每个值都与宏定义中的一个参数相对应,整个列表用一对括号包围。当参数出现在程序中时,与每个参数对应的实际值都将被替换到stuff.  \n",
    "  \n",
    "应注意用宏定义表示数据类型和用 typedef 定义数据说明符的区别。宏定义只是简单的字符串替换，由预处理器来处理；而 typedef 是在编译阶段由编译器处理的，它并不是简单的字符串替换，而给原有的数据类型起一个新的名字，将它作为一种新的数据类型。"
   ]
  },
  {
   "cell_type": "markdown",
   "id": "3a404047",
   "metadata": {},
   "source": [
    "#### #define替换"
   ]
  },
  {
   "cell_type": "markdown",
   "id": "80f77999",
   "metadata": {},
   "source": [
    "在程序中扩展#define定义符号和宏时,需要涉及几个步骤。\n",
    "1. 在调用宏时,首先对参数进行检查,看看是否包含了任何由#define定义的符号。如果是它们首先被替换\n",
    "2. 替换文本随后被插入到程序中原来文本的位置。对于宏,参数名被它们的值所替代\n",
    "3. 最后,再次对结果文本进行扫描,看看它是否包含了任何由# define定义的符号。  \n",
    "  \n",
    "如果是,就重复上述处理过程.这样,宏参数和#define定义可以包含其他#define定义的符号。**但是,宏不可以出现递归。**  \n",
    "  \n",
    "当预处理器搜索 define定义的符号时,字符串常量的内容并不进行检查。你如果想把宏参数插入到字符串常量可以使用两种技巧。  \n",
    "首先,邻近字符串自动连接的特性使我们很容易把一个字符串分成几段,每段实际上都是一个宏参数。这里有一个这种技巧的例子:  \n",
    "```c\n",
    "#define PRINT(FORMAT,VALUE) printf(\"the value is \"FORMAT\"\\n,VALUE)\n",
    "...\n",
    "   PRINT(\"%d\",x+3);\n",
    "```\n",
    "第二个技巧使用预处理器把一个宏参数转换为一个字符串\n",
    "```c\n",
    "#include <stdio.h>\n",
    "#include <string.h>\n",
    "#define PRINT(FORMAT,VALUE) printf(\"the value of \" #VALUE \" is \" FORMAT \"\\n\",VALUE)\n",
    "\n",
    "int main()\n",
    "{\n",
    "    int x=2;\n",
    "    PRINT(\"%d\",x+3);\n",
    "    return 0;\n",
    "}\n",
    "```"
   ]
  },
  {
   "cell_type": "markdown",
   "id": "ccc09c65",
   "metadata": {},
   "source": [
    "#### #与##的用法 "
   ]
  },
  {
   "cell_type": "markdown",
   "id": "a349ed5c",
   "metadata": {},
   "source": [
    "#用来将宏参数转换为字符串，也就是在宏参数的开头和末尾添加引号。\n",
    "```c\n",
    "#include <stdio.h>\n",
    "#define STR(s) #s\n",
    "int main() \n",
    "{\n",
    "    printf(\"%s\\n\", STR(c.biancheng.net));//printf(\"%s\", \"c.biancheng.net\");\n",
    "    printf(\"%s\\n\", STR(\"c.biancheng.net\"));//printf(\"%s\", \"\\\"c.biancheng.net\\\"\");\n",
    "    return 0;\n",
    "}\n",
    "//可以发现，即使给宏参数“传递”的数据中包含引号，使用#仍然会在两头添加新的引号，而原来的引号会被转义。\n",
    "```"
   ]
  },
  {
   "cell_type": "markdown",
   "id": "1ce050db",
   "metadata": {},
   "source": [
    "##称为连接符，用来将宏参数或其他的串连接起来。\n",
    "```c\n",
    "#include <stdio.h>\n",
    "#define CON1(a, b) a##e##b\n",
    "#define CON2(a, b) a##b##00\n",
    "int main() \n",
    "{\n",
    "    printf(\"%f\\n\", CON1(8.5, 2));//printf(\"%f\\n\", 8.5e2);\n",
    "    printf(\"%d\\n\", CON2(12, 34));//printf(\"%d\\n\", 123400);\n",
    "    return 0;\n",
    "}\n",
    "```\n",
    "结果：  \n",
    "850.000000  \n",
    "123400"
   ]
  },
  {
   "cell_type": "markdown",
   "id": "de83ab2c",
   "metadata": {
    "ExecuteTime": {
     "end_time": "2021-09-20T12:47:01.062659Z",
     "start_time": "2021-09-20T12:47:01.015036Z"
    }
   },
   "source": [
    "##结构允许宏定义从分离的文本片段创建标识符\n",
    "```c\n",
    "#include <stdio.h>\n",
    "#include <string.h>\n",
    "#define ADD_TO_SUM(sum_number,value) sum ## sum_number += value;\n",
    "int main()\n",
    "{\n",
    "    //int x=2;\n",
    "    //PRINT(\"%d\",x+3);\n",
    "    int sum5=5;\n",
    "    ADD_TO_SUM(5,25);\n",
    "    printf(\"%d\",sum5);\n",
    "    return 0;\n",
    "}\n",
    "```"
   ]
  },
  {
   "cell_type": "markdown",
   "id": "7ceb13b9",
   "metadata": {},
   "source": [
    "#### 宏与函数 "
   ]
  },
  {
   "cell_type": "markdown",
   "id": "c3070ab0",
   "metadata": {},
   "source": [
    "宏非常频繁地用于执行简单的计算,比如在两个表达式中寻找其中较大(或较小)的一个:\n",
    "`#define MAX(a,b) ((a)>(b)?(a):(b))`  \n",
    "为什么不用函数来完成这个任务呢?有两个原因。首先,用于调用和从函数返回的代码很可能比实际执行这个小型计算工作的代码更大,所以使用宏比使用函数在程序的规模和速度方面都更胜一筹。但是,更为重要的是,**函数的参数必须声明为一种特定的类型**,所以它只能在类型合适的表达式上使用。反之,上面这个宏可以用于整型、长整型、单浮点型、双浮点数以及其他任何可以用>操作符比较值大小的类型。换句话说,**宏是与类型无关的**。  \n",
    "\n",
    "和使用函数相比,使用宏的不利之处在于每次使用宏时,一份宏定义代码的拷贝都将插入到程序中。除非宏非常短,否则使用宏可能会大幅度增加程序的长度。"
   ]
  },
  {
   "cell_type": "markdown",
   "id": "8c7bed9c",
   "metadata": {},
   "source": [
    "<img src=\"./pictures/c.png\" width=600 />"
   ]
  },
  {
   "cell_type": "markdown",
   "id": "1b7f3f96",
   "metadata": {},
   "source": [
    "#### #undef "
   ]
  },
  {
   "cell_type": "markdown",
   "id": "afbd2030",
   "metadata": {},
   "source": [
    "`#undef name`用于移除一个宏定义"
   ]
  },
  {
   "cell_type": "markdown",
   "id": "9def9304",
   "metadata": {},
   "source": [
    "#### 命令行定义 "
   ]
  },
  {
   "cell_type": "markdown",
   "id": "fd75354b",
   "metadata": {},
   "source": [
    "许多C编译器提供一种功能，允许在命令行中定义符号，用于启动编译过程。当根据同一个源文件编译一个程序的不同版本时,这个特性是很有用的。例如,假定某个程序声明了一个某种长度的数组。如果某个机器的内存很有限,这个数组必须很小,但在另一个内存充裕的机器上,你可能希望数组能够大一些。如果数组是用类似下面的形式进行声明的`int array[ARRAY_SIZE]`，那么在编译程序时，ARRAY_SIZE的值可以在命令行中指定。  \n",
    "在UNIX编译器中，-D可以完成这项任务。  \n",
    "`-Dname`或`-Dname=stuff`  \n",
    "第1种形式定义了符号name,它的值为1。第2种形式把该符号的值定义为等号后面的stuff.所以编译这个程序的命令行可能就是`cc -DARRAY_SIZE=100 prog.c`  \n",
    "提供符号命令行定义的编译器通常也提供在命令行中去除符号的定义。在UNIX编译器上,`-U`选项用于执行这项任务。指定`-Uname`将导致程序中符号name的初始定义被忽略。当它与条件编译结合使用时,这个特性是很有用的。"
   ]
  },
  {
   "cell_type": "markdown",
   "id": "09c0d08f",
   "metadata": {},
   "source": [
    "### 条件编译 "
   ]
  },
  {
   "cell_type": "markdown",
   "id": "40fe76b7",
   "metadata": {},
   "source": [
    "在编译一个程序时,如果我们可以选择某条语句或某组语句进行翻译或者被忽略,常常会显得很方便。只用于调试程序的语句就是一个明显的例子。它们不应该出现在程序的产品版本中,但是你可能并不想把这些语句从源代码中物理删除,因为如果需要一些维护性修改时,你可能需要重新调试这个程序,还需要这些语句。  \n",
    "**条件编译(conditional compilation)**就是用于实现这个目的。使用条件编译,你可以选择代码的\n",
    "部分是被正常编译还是完全忽略。用于支持条件编译的基本结构是#if指令和与其匹配的#endif指令,下面显示了它最简单的语法形式。\n",
    "```c\n",
    "#if constant-expression\n",
    "        statements\n",
    "#endif\n",
    "```  \n",
    "其中常量表达式由预处理器进行求值，若为真，则statements部分就被正常编译，否则则忽略。  \n",
    "```c\n",
    "#define DEBUG=0/1 //控制编译或忽略\n",
    "\n",
    "#if DEBUG\n",
    "    printf(\"...\");\n",
    "#endif\n",
    "```"
   ]
  },
  {
   "cell_type": "markdown",
   "id": "5634ce87",
   "metadata": {},
   "source": [
    "条件编译的另一个用途是在编译时选择不同的代码部分。\n",
    "```c\n",
    "#if constant-expression\n",
    "    statements\n",
    "#elif constant-expression\n",
    "    other statements...\n",
    "#else\n",
    "    other statements\n",
    "#endif\n",
    "```\n",
    "每个常量表达式只有当前面所有常量表达式都为假时才会编译。#else子句中的语句只有当前面所有的常量表达式都为假时才会被编译。"
   ]
  },
  {
   "cell_type": "markdown",
   "id": "162f0618",
   "metadata": {},
   "source": [
    "<img src=\"./pictures/d.png\">"
   ]
  },
  {
   "cell_type": "markdown",
   "id": "f2f6cd7e",
   "metadata": {},
   "source": [
    "### 文件包含 "
   ]
  },
  {
   "cell_type": "markdown",
   "id": "ec4bf012",
   "metadata": {},
   "source": [
    "多重包含在绝大多数情况下出现于大型程序中,它往往需要使用很多头文件,因此要发现这种\n",
    "情况并不容易。要解决这个问题,我们可以使用条件编译。如果所有的头文件都像下面这样编写：\n",
    "```c\n",
    "#ifdef _HEADERNAME_H\n",
    "#define _HEADERNAME_H\n",
    "#endif\n",
    "```\n",
    "那么,多重包含的危险就被消除了。当头文件第1次被包含时,它被正常处理,符号_HEADERNAME_H被定义为1。如果头文件被再次包含,通过条件编译,它的所有内容被忽略符号_HEADERNAME_H按照被包含文件的文件名进行取名,以避免由于其他头文件使用相同的符号而引起的冲突.  \n",
    "注意前一个例子中的定义也可以写作\n",
    "`#define _HEADERNAME_H`  \n",
    "它的效果完全一样。尽管现在它的值是一个空字符串而不是“1”,但这个符号仍然被定义。但是,你必须记住预处理器仍将读入整个头文件,即使这个文件的所有内容将被忽略。由于这种处理将拖慢编译速度,所以如果可能,应避免出现多重包含,不管它是否由于嵌套的#include文件导致。"
   ]
  },
  {
   "cell_type": "markdown",
   "id": "5ef8b573",
   "metadata": {},
   "source": [
    "### 其他指令 "
   ]
  },
  {
   "cell_type": "markdown",
   "id": "3714cab7",
   "metadata": {},
   "source": [
    "`#error text of error message` 生成错误信息  \n",
    "`#line number \"string\"`"
   ]
  },
  {
   "cell_type": "markdown",
   "id": "1a64d5e2",
   "metadata": {},
   "source": [
    "## 输入/输出函数 "
   ]
  },
  {
   "cell_type": "markdown",
   "id": "5538c1ba",
   "metadata": {},
   "source": [
    "### 错误报告 "
   ]
  },
  {
   "cell_type": "markdown",
   "id": "bac5a0d7",
   "metadata": {},
   "source": [
    "perror函数以一种简单、统一的方式报告错误。 ANSI C函数库的许多函数调用操作系统来完成某些任务,I/O函数尤其如此。任何时候,当操作系统根据要求执行一些任务的时候,都存在失败的可能。例如,如果一个程序试图从一个并不存在的磁盘文件读取数据,操作系统除了提示发生了错误之外就没什么好做的了。标准库函数在一个外部整型变量errno(在errno.h中定义)中保存错误代码之后把这个信息传递给用户程序,提示操作失败的准确原因。perror函数简化向用户报告这些特定错误的过程。它的原型定义于 stdio.h,如下所示:  \n",
    "`void perror(char const *message);`  \n",
    "如果 message不是NULL并且指向一个非空的字符串, perror函数就打印出这个字符串,后面跟一个分号和一个空格,然后打印出一条用于解释errno当前错误代码的信息。"
   ]
  },
  {
   "cell_type": "markdown",
   "id": "b65efe32",
   "metadata": {},
   "source": [
    "### 终止执行 "
   ]
  },
  {
   "cell_type": "markdown",
   "id": "5df020ae",
   "metadata": {},
   "source": [
    "`void exit(int status)`//定义于stdlib.h  \n",
    "status参数返回给操作系统,用于提示程序是否正常完成。这个值和main函数返回的整型状态值相同。预定义符号`EXIT SUCCESS`和`EXIT FAILURE`分别提示程序的终止是成功还是失败。虽然程序也可以使用其他的值,但它们的具体含义将取决于编译器"
   ]
  },
  {
   "cell_type": "markdown",
   "id": "37f71eec",
   "metadata": {},
   "source": [
    "### 标准I/O函数库 "
   ]
  },
  {
   "cell_type": "markdown",
   "id": "fe8b7671",
   "metadata": {},
   "source": [
    "这个函数库存在两个主要的缺陷。  \n",
    "首先,它是在某台特定类型的机器上实现的,并没有对其他\n",
    "具有不同特性的机器作过多考虑。这就可能出现一种情况,就是**在某台机器上运行良好的代码在另\n",
    "台机器上无法运行**,原因仅仅是两台机器之间的架构不同。  \n",
    "第2个缺陷与第1个缺陷有直接有关\n",
    "系。当设计者发现上述问题后,他们试图通过修改库函数进行修正。但是,只要他们这样做了,这\n",
    "个函数库就不再“标准”,**程序的可移植性就会降低**"
   ]
  },
  {
   "cell_type": "markdown",
   "id": "75b35253",
   "metadata": {},
   "source": [
    "### ANSI I/O概念 "
   ]
  },
  {
   "cell_type": "markdown",
   "id": "184508fd",
   "metadata": {},
   "source": [
    "#### 流"
   ]
  },
  {
   "cell_type": "markdown",
   "id": "6be0d432",
   "metadata": {},
   "source": [
    "字节流——流(stream)  \n",
    "绝大多数流是**完全缓冲的(fully buffered)**,这意味着“读取”和“写入”实际上是从一块被称为缓冲区(buffer)的内存区域来回复制数据。从内存中来回复制数据是非常快速的。用于输出流的缓冲\n",
    "区只有当它写满时才会被刷新(flush,物理写入)到设备或文件中。一次性把写满的缓冲区写入和\n",
    "逐片把程序产生的输出分别写入相比效率更高。类似,输入缓冲区当它为空时通过从设备或文件读\n",
    "取下一块较大的输入,重新填充缓冲区"
   ]
  },
  {
   "cell_type": "markdown",
   "id": "188e4410",
   "metadata": {},
   "source": [
    "流分为文本流和二进制流"
   ]
  },
  {
   "cell_type": "markdown",
   "id": "d77d2836",
   "metadata": {},
   "source": [
    "#### 文件 "
   ]
  },
  {
   "cell_type": "markdown",
   "id": "d8def756",
   "metadata": {},
   "source": []
  },
  {
   "cell_type": "markdown",
   "id": "925edcd9",
   "metadata": {},
   "source": []
  },
  {
   "cell_type": "markdown",
   "id": "be38d58f",
   "metadata": {},
   "source": []
  },
  {
   "cell_type": "markdown",
   "id": "a31b0c2c",
   "metadata": {},
   "source": []
  },
  {
   "cell_type": "code",
   "execution_count": null,
   "id": "2eb1a3f2",
   "metadata": {
    "ExecuteTime": {
     "end_time": "2021-09-20T12:46:24.743197Z",
     "start_time": "2021-09-20T12:46:24.697048Z"
    }
   },
   "outputs": [],
   "source": [
    "#include <stdio.h>\n",
    "#include <string.h>\n",
    "#define ADD_TO_SUM(sum_number,value) sum ## sum_number += value;\n",
    "int main()\n",
    "{\n",
    "    //int x=2;\n",
    "    //PRINT(\"%d\",x+3);\n",
    "    int sum5=5;\n",
    "    ADD_TO_SUM(5,25);\n",
    "    printf(\"%d\",sum5);\n",
    "    return 0;\n",
    "}"
   ]
  },
  {
   "cell_type": "code",
   "execution_count": null,
   "id": "2c747259",
   "metadata": {},
   "outputs": [],
   "source": []
  },
  {
   "cell_type": "code",
   "execution_count": null,
   "id": "9cf59a39",
   "metadata": {},
   "outputs": [],
   "source": []
  },
  {
   "cell_type": "code",
   "execution_count": 10,
   "id": "97309289",
   "metadata": {
    "ExecuteTime": {
     "end_time": "2021-09-16T11:08:52.557020Z",
     "start_time": "2021-09-16T11:08:52.517860Z"
    }
   },
   "outputs": [
    {
     "name": "stdout",
     "output_type": "stream",
     "text": [
      "10"
     ]
    }
   ],
   "source": [
    "#include <stdio.h>\n",
    "int main()\n",
    "{\n",
    "    typedef struct {\n",
    "        int a;\n",
    "        short b[2];\n",
    "    }Ex2;\n",
    "    Ex2 x={10,{1,2}};\n",
    "    Ex2 *px=&x;\n",
    "    printf(\"%d\",px->a);\n",
    "    return 0;\n",
    "}"
   ]
  },
  {
   "cell_type": "code",
   "execution_count": null,
   "id": "e9a592a9",
   "metadata": {},
   "outputs": [],
   "source": []
  }
 ],
 "metadata": {
  "kernelspec": {
   "display_name": "C",
   "language": "c",
   "name": "c"
  },
  "language_info": {
   "file_extension": ".c",
   "mimetype": "text/plain",
   "name": "c"
  },
  "latex_envs": {
   "LaTeX_envs_menu_present": true,
   "autoclose": false,
   "autocomplete": true,
   "bibliofile": "biblio.bib",
   "cite_by": "apalike",
   "current_citInitial": 1,
   "eqLabelWithNumbers": true,
   "eqNumInitial": 1,
   "hotkeys": {
    "equation": "Ctrl-E",
    "itemize": "Ctrl-I"
   },
   "labels_anchors": false,
   "latex_user_defs": false,
   "report_style_numbering": false,
   "user_envs_cfg": false
  },
  "toc": {
   "base_numbering": 1,
   "nav_menu": {},
   "number_sections": true,
   "sideBar": true,
   "skip_h1_title": false,
   "title_cell": "Table of Contents",
   "title_sidebar": "Contents",
   "toc_cell": false,
   "toc_position": {
    "height": "calc(100% - 180px)",
    "left": "10px",
    "top": "150px",
    "width": "165px"
   },
   "toc_section_display": true,
   "toc_window_display": true
  },
  "varInspector": {
   "cols": {
    "lenName": 16,
    "lenType": 16,
    "lenVar": 40
   },
   "kernels_config": {
    "python": {
     "delete_cmd_postfix": "",
     "delete_cmd_prefix": "del ",
     "library": "var_list.py",
     "varRefreshCmd": "print(var_dic_list())"
    },
    "r": {
     "delete_cmd_postfix": ") ",
     "delete_cmd_prefix": "rm(",
     "library": "var_list.r",
     "varRefreshCmd": "cat(var_dic_list()) "
    }
   },
   "types_to_exclude": [
    "module",
    "function",
    "builtin_function_or_method",
    "instance",
    "_Feature"
   ],
   "window_display": false
  }
 },
 "nbformat": 4,
 "nbformat_minor": 5
}
